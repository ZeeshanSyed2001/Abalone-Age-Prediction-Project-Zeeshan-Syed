{
  "nbformat": 4,
  "nbformat_minor": 0,
  "metadata": {
    "colab": {
      "provenance": []
    },
    "kernelspec": {
      "name": "python3",
      "display_name": "Python 3"
    },
    "language_info": {
      "name": "python"
    },
    "widgets": {
      "application/vnd.jupyter.widget-state+json": {
        "86b63ad0636b4be7a31ec9404b7327af": {
          "model_module": "@jupyter-widgets/controls",
          "model_name": "HBoxModel",
          "model_module_version": "1.5.0",
          "state": {
            "_dom_classes": [],
            "_model_module": "@jupyter-widgets/controls",
            "_model_module_version": "1.5.0",
            "_model_name": "HBoxModel",
            "_view_count": null,
            "_view_module": "@jupyter-widgets/controls",
            "_view_module_version": "1.5.0",
            "_view_name": "HBoxView",
            "box_style": "",
            "children": [
              "IPY_MODEL_d6e2cf93d7804b5e9b5c373d314bc84d",
              "IPY_MODEL_43c75f4ac4b6494193463dcfaad1eaee",
              "IPY_MODEL_e95f98cc3ed341d08b94ce26ac97ad89"
            ],
            "layout": "IPY_MODEL_019d3b1ece54406b94c84b10d9b20271"
          }
        },
        "d6e2cf93d7804b5e9b5c373d314bc84d": {
          "model_module": "@jupyter-widgets/controls",
          "model_name": "HTMLModel",
          "model_module_version": "1.5.0",
          "state": {
            "_dom_classes": [],
            "_model_module": "@jupyter-widgets/controls",
            "_model_module_version": "1.5.0",
            "_model_name": "HTMLModel",
            "_view_count": null,
            "_view_module": "@jupyter-widgets/controls",
            "_view_module_version": "1.5.0",
            "_view_name": "HTMLView",
            "description": "",
            "description_tooltip": null,
            "layout": "IPY_MODEL_6ec95271f37b4988806a46c3c514bf32",
            "placeholder": "​",
            "style": "IPY_MODEL_cb5e72b7a3424884b61ac169df1fcc21",
            "value": "Processing: 100%"
          }
        },
        "43c75f4ac4b6494193463dcfaad1eaee": {
          "model_module": "@jupyter-widgets/controls",
          "model_name": "FloatProgressModel",
          "model_module_version": "1.5.0",
          "state": {
            "_dom_classes": [],
            "_model_module": "@jupyter-widgets/controls",
            "_model_module_version": "1.5.0",
            "_model_name": "FloatProgressModel",
            "_view_count": null,
            "_view_module": "@jupyter-widgets/controls",
            "_view_module_version": "1.5.0",
            "_view_name": "ProgressView",
            "bar_style": "",
            "description": "",
            "description_tooltip": null,
            "layout": "IPY_MODEL_4939a626d8db4bd183409d5810085adf",
            "max": 81,
            "min": 0,
            "orientation": "horizontal",
            "style": "IPY_MODEL_e521c04ccdfb47fab653ab7af2864165",
            "value": 81
          }
        },
        "e95f98cc3ed341d08b94ce26ac97ad89": {
          "model_module": "@jupyter-widgets/controls",
          "model_name": "HTMLModel",
          "model_module_version": "1.5.0",
          "state": {
            "_dom_classes": [],
            "_model_module": "@jupyter-widgets/controls",
            "_model_module_version": "1.5.0",
            "_model_name": "HTMLModel",
            "_view_count": null,
            "_view_module": "@jupyter-widgets/controls",
            "_view_module_version": "1.5.0",
            "_view_name": "HTMLView",
            "description": "",
            "description_tooltip": null,
            "layout": "IPY_MODEL_3bded2be102e4df2b449ab8f1bb2cabc",
            "placeholder": "​",
            "style": "IPY_MODEL_7a3ae854623a475e9b89663bd347424c",
            "value": " 81/81 [01:09&lt;00:00,  1.76it/s]"
          }
        },
        "019d3b1ece54406b94c84b10d9b20271": {
          "model_module": "@jupyter-widgets/base",
          "model_name": "LayoutModel",
          "model_module_version": "1.2.0",
          "state": {
            "_model_module": "@jupyter-widgets/base",
            "_model_module_version": "1.2.0",
            "_model_name": "LayoutModel",
            "_view_count": null,
            "_view_module": "@jupyter-widgets/base",
            "_view_module_version": "1.2.0",
            "_view_name": "LayoutView",
            "align_content": null,
            "align_items": null,
            "align_self": null,
            "border": null,
            "bottom": null,
            "display": null,
            "flex": null,
            "flex_flow": null,
            "grid_area": null,
            "grid_auto_columns": null,
            "grid_auto_flow": null,
            "grid_auto_rows": null,
            "grid_column": null,
            "grid_gap": null,
            "grid_row": null,
            "grid_template_areas": null,
            "grid_template_columns": null,
            "grid_template_rows": null,
            "height": null,
            "justify_content": null,
            "justify_items": null,
            "left": null,
            "margin": null,
            "max_height": null,
            "max_width": null,
            "min_height": null,
            "min_width": null,
            "object_fit": null,
            "object_position": null,
            "order": null,
            "overflow": null,
            "overflow_x": null,
            "overflow_y": null,
            "padding": null,
            "right": null,
            "top": null,
            "visibility": "hidden",
            "width": null
          }
        },
        "6ec95271f37b4988806a46c3c514bf32": {
          "model_module": "@jupyter-widgets/base",
          "model_name": "LayoutModel",
          "model_module_version": "1.2.0",
          "state": {
            "_model_module": "@jupyter-widgets/base",
            "_model_module_version": "1.2.0",
            "_model_name": "LayoutModel",
            "_view_count": null,
            "_view_module": "@jupyter-widgets/base",
            "_view_module_version": "1.2.0",
            "_view_name": "LayoutView",
            "align_content": null,
            "align_items": null,
            "align_self": null,
            "border": null,
            "bottom": null,
            "display": null,
            "flex": null,
            "flex_flow": null,
            "grid_area": null,
            "grid_auto_columns": null,
            "grid_auto_flow": null,
            "grid_auto_rows": null,
            "grid_column": null,
            "grid_gap": null,
            "grid_row": null,
            "grid_template_areas": null,
            "grid_template_columns": null,
            "grid_template_rows": null,
            "height": null,
            "justify_content": null,
            "justify_items": null,
            "left": null,
            "margin": null,
            "max_height": null,
            "max_width": null,
            "min_height": null,
            "min_width": null,
            "object_fit": null,
            "object_position": null,
            "order": null,
            "overflow": null,
            "overflow_x": null,
            "overflow_y": null,
            "padding": null,
            "right": null,
            "top": null,
            "visibility": null,
            "width": null
          }
        },
        "cb5e72b7a3424884b61ac169df1fcc21": {
          "model_module": "@jupyter-widgets/controls",
          "model_name": "DescriptionStyleModel",
          "model_module_version": "1.5.0",
          "state": {
            "_model_module": "@jupyter-widgets/controls",
            "_model_module_version": "1.5.0",
            "_model_name": "DescriptionStyleModel",
            "_view_count": null,
            "_view_module": "@jupyter-widgets/base",
            "_view_module_version": "1.2.0",
            "_view_name": "StyleView",
            "description_width": ""
          }
        },
        "4939a626d8db4bd183409d5810085adf": {
          "model_module": "@jupyter-widgets/base",
          "model_name": "LayoutModel",
          "model_module_version": "1.2.0",
          "state": {
            "_model_module": "@jupyter-widgets/base",
            "_model_module_version": "1.2.0",
            "_model_name": "LayoutModel",
            "_view_count": null,
            "_view_module": "@jupyter-widgets/base",
            "_view_module_version": "1.2.0",
            "_view_name": "LayoutView",
            "align_content": null,
            "align_items": null,
            "align_self": null,
            "border": null,
            "bottom": null,
            "display": null,
            "flex": null,
            "flex_flow": null,
            "grid_area": null,
            "grid_auto_columns": null,
            "grid_auto_flow": null,
            "grid_auto_rows": null,
            "grid_column": null,
            "grid_gap": null,
            "grid_row": null,
            "grid_template_areas": null,
            "grid_template_columns": null,
            "grid_template_rows": null,
            "height": null,
            "justify_content": null,
            "justify_items": null,
            "left": null,
            "margin": null,
            "max_height": null,
            "max_width": null,
            "min_height": null,
            "min_width": null,
            "object_fit": null,
            "object_position": null,
            "order": null,
            "overflow": null,
            "overflow_x": null,
            "overflow_y": null,
            "padding": null,
            "right": null,
            "top": null,
            "visibility": null,
            "width": null
          }
        },
        "e521c04ccdfb47fab653ab7af2864165": {
          "model_module": "@jupyter-widgets/controls",
          "model_name": "ProgressStyleModel",
          "model_module_version": "1.5.0",
          "state": {
            "_model_module": "@jupyter-widgets/controls",
            "_model_module_version": "1.5.0",
            "_model_name": "ProgressStyleModel",
            "_view_count": null,
            "_view_module": "@jupyter-widgets/base",
            "_view_module_version": "1.2.0",
            "_view_name": "StyleView",
            "bar_color": null,
            "description_width": ""
          }
        },
        "3bded2be102e4df2b449ab8f1bb2cabc": {
          "model_module": "@jupyter-widgets/base",
          "model_name": "LayoutModel",
          "model_module_version": "1.2.0",
          "state": {
            "_model_module": "@jupyter-widgets/base",
            "_model_module_version": "1.2.0",
            "_model_name": "LayoutModel",
            "_view_count": null,
            "_view_module": "@jupyter-widgets/base",
            "_view_module_version": "1.2.0",
            "_view_name": "LayoutView",
            "align_content": null,
            "align_items": null,
            "align_self": null,
            "border": null,
            "bottom": null,
            "display": null,
            "flex": null,
            "flex_flow": null,
            "grid_area": null,
            "grid_auto_columns": null,
            "grid_auto_flow": null,
            "grid_auto_rows": null,
            "grid_column": null,
            "grid_gap": null,
            "grid_row": null,
            "grid_template_areas": null,
            "grid_template_columns": null,
            "grid_template_rows": null,
            "height": null,
            "justify_content": null,
            "justify_items": null,
            "left": null,
            "margin": null,
            "max_height": null,
            "max_width": null,
            "min_height": null,
            "min_width": null,
            "object_fit": null,
            "object_position": null,
            "order": null,
            "overflow": null,
            "overflow_x": null,
            "overflow_y": null,
            "padding": null,
            "right": null,
            "top": null,
            "visibility": null,
            "width": null
          }
        },
        "7a3ae854623a475e9b89663bd347424c": {
          "model_module": "@jupyter-widgets/controls",
          "model_name": "DescriptionStyleModel",
          "model_module_version": "1.5.0",
          "state": {
            "_model_module": "@jupyter-widgets/controls",
            "_model_module_version": "1.5.0",
            "_model_name": "DescriptionStyleModel",
            "_view_count": null,
            "_view_module": "@jupyter-widgets/base",
            "_view_module_version": "1.2.0",
            "_view_name": "StyleView",
            "description_width": ""
          }
        }
      }
    }
  },
  "cells": [
    {
      "cell_type": "code",
      "execution_count": null,
      "metadata": {
        "colab": {
          "base_uri": "https://localhost:8080/",
          "height": 73
        },
        "id": "cQSI-9baCQ5x",
        "outputId": "8adeaa9e-661c-4dde-a7e5-019e588b11cb"
      },
      "outputs": [
        {
          "output_type": "display_data",
          "data": {
            "text/plain": [
              "<IPython.core.display.HTML object>"
            ],
            "text/html": [
              "\n",
              "     <input type=\"file\" id=\"files-48b79df4-f022-49ff-8241-79d45c07289d\" name=\"files[]\" multiple disabled\n",
              "        style=\"border:none\" />\n",
              "     <output id=\"result-48b79df4-f022-49ff-8241-79d45c07289d\">\n",
              "      Upload widget is only available when the cell has been executed in the\n",
              "      current browser session. Please rerun this cell to enable.\n",
              "      </output>\n",
              "      <script>// Copyright 2017 Google LLC\n",
              "//\n",
              "// Licensed under the Apache License, Version 2.0 (the \"License\");\n",
              "// you may not use this file except in compliance with the License.\n",
              "// You may obtain a copy of the License at\n",
              "//\n",
              "//      http://www.apache.org/licenses/LICENSE-2.0\n",
              "//\n",
              "// Unless required by applicable law or agreed to in writing, software\n",
              "// distributed under the License is distributed on an \"AS IS\" BASIS,\n",
              "// WITHOUT WARRANTIES OR CONDITIONS OF ANY KIND, either express or implied.\n",
              "// See the License for the specific language governing permissions and\n",
              "// limitations under the License.\n",
              "\n",
              "/**\n",
              " * @fileoverview Helpers for google.colab Python module.\n",
              " */\n",
              "(function(scope) {\n",
              "function span(text, styleAttributes = {}) {\n",
              "  const element = document.createElement('span');\n",
              "  element.textContent = text;\n",
              "  for (const key of Object.keys(styleAttributes)) {\n",
              "    element.style[key] = styleAttributes[key];\n",
              "  }\n",
              "  return element;\n",
              "}\n",
              "\n",
              "// Max number of bytes which will be uploaded at a time.\n",
              "const MAX_PAYLOAD_SIZE = 100 * 1024;\n",
              "\n",
              "function _uploadFiles(inputId, outputId) {\n",
              "  const steps = uploadFilesStep(inputId, outputId);\n",
              "  const outputElement = document.getElementById(outputId);\n",
              "  // Cache steps on the outputElement to make it available for the next call\n",
              "  // to uploadFilesContinue from Python.\n",
              "  outputElement.steps = steps;\n",
              "\n",
              "  return _uploadFilesContinue(outputId);\n",
              "}\n",
              "\n",
              "// This is roughly an async generator (not supported in the browser yet),\n",
              "// where there are multiple asynchronous steps and the Python side is going\n",
              "// to poll for completion of each step.\n",
              "// This uses a Promise to block the python side on completion of each step,\n",
              "// then passes the result of the previous step as the input to the next step.\n",
              "function _uploadFilesContinue(outputId) {\n",
              "  const outputElement = document.getElementById(outputId);\n",
              "  const steps = outputElement.steps;\n",
              "\n",
              "  const next = steps.next(outputElement.lastPromiseValue);\n",
              "  return Promise.resolve(next.value.promise).then((value) => {\n",
              "    // Cache the last promise value to make it available to the next\n",
              "    // step of the generator.\n",
              "    outputElement.lastPromiseValue = value;\n",
              "    return next.value.response;\n",
              "  });\n",
              "}\n",
              "\n",
              "/**\n",
              " * Generator function which is called between each async step of the upload\n",
              " * process.\n",
              " * @param {string} inputId Element ID of the input file picker element.\n",
              " * @param {string} outputId Element ID of the output display.\n",
              " * @return {!Iterable<!Object>} Iterable of next steps.\n",
              " */\n",
              "function* uploadFilesStep(inputId, outputId) {\n",
              "  const inputElement = document.getElementById(inputId);\n",
              "  inputElement.disabled = false;\n",
              "\n",
              "  const outputElement = document.getElementById(outputId);\n",
              "  outputElement.innerHTML = '';\n",
              "\n",
              "  const pickedPromise = new Promise((resolve) => {\n",
              "    inputElement.addEventListener('change', (e) => {\n",
              "      resolve(e.target.files);\n",
              "    });\n",
              "  });\n",
              "\n",
              "  const cancel = document.createElement('button');\n",
              "  inputElement.parentElement.appendChild(cancel);\n",
              "  cancel.textContent = 'Cancel upload';\n",
              "  const cancelPromise = new Promise((resolve) => {\n",
              "    cancel.onclick = () => {\n",
              "      resolve(null);\n",
              "    };\n",
              "  });\n",
              "\n",
              "  // Wait for the user to pick the files.\n",
              "  const files = yield {\n",
              "    promise: Promise.race([pickedPromise, cancelPromise]),\n",
              "    response: {\n",
              "      action: 'starting',\n",
              "    }\n",
              "  };\n",
              "\n",
              "  cancel.remove();\n",
              "\n",
              "  // Disable the input element since further picks are not allowed.\n",
              "  inputElement.disabled = true;\n",
              "\n",
              "  if (!files) {\n",
              "    return {\n",
              "      response: {\n",
              "        action: 'complete',\n",
              "      }\n",
              "    };\n",
              "  }\n",
              "\n",
              "  for (const file of files) {\n",
              "    const li = document.createElement('li');\n",
              "    li.append(span(file.name, {fontWeight: 'bold'}));\n",
              "    li.append(span(\n",
              "        `(${file.type || 'n/a'}) - ${file.size} bytes, ` +\n",
              "        `last modified: ${\n",
              "            file.lastModifiedDate ? file.lastModifiedDate.toLocaleDateString() :\n",
              "                                    'n/a'} - `));\n",
              "    const percent = span('0% done');\n",
              "    li.appendChild(percent);\n",
              "\n",
              "    outputElement.appendChild(li);\n",
              "\n",
              "    const fileDataPromise = new Promise((resolve) => {\n",
              "      const reader = new FileReader();\n",
              "      reader.onload = (e) => {\n",
              "        resolve(e.target.result);\n",
              "      };\n",
              "      reader.readAsArrayBuffer(file);\n",
              "    });\n",
              "    // Wait for the data to be ready.\n",
              "    let fileData = yield {\n",
              "      promise: fileDataPromise,\n",
              "      response: {\n",
              "        action: 'continue',\n",
              "      }\n",
              "    };\n",
              "\n",
              "    // Use a chunked sending to avoid message size limits. See b/62115660.\n",
              "    let position = 0;\n",
              "    do {\n",
              "      const length = Math.min(fileData.byteLength - position, MAX_PAYLOAD_SIZE);\n",
              "      const chunk = new Uint8Array(fileData, position, length);\n",
              "      position += length;\n",
              "\n",
              "      const base64 = btoa(String.fromCharCode.apply(null, chunk));\n",
              "      yield {\n",
              "        response: {\n",
              "          action: 'append',\n",
              "          file: file.name,\n",
              "          data: base64,\n",
              "        },\n",
              "      };\n",
              "\n",
              "      let percentDone = fileData.byteLength === 0 ?\n",
              "          100 :\n",
              "          Math.round((position / fileData.byteLength) * 100);\n",
              "      percent.textContent = `${percentDone}% done`;\n",
              "\n",
              "    } while (position < fileData.byteLength);\n",
              "  }\n",
              "\n",
              "  // All done.\n",
              "  yield {\n",
              "    response: {\n",
              "      action: 'complete',\n",
              "    }\n",
              "  };\n",
              "}\n",
              "\n",
              "scope.google = scope.google || {};\n",
              "scope.google.colab = scope.google.colab || {};\n",
              "scope.google.colab._files = {\n",
              "  _uploadFiles,\n",
              "  _uploadFilesContinue,\n",
              "};\n",
              "})(self);\n",
              "</script> "
            ]
          },
          "metadata": {}
        },
        {
          "output_type": "stream",
          "name": "stdout",
          "text": [
            "Saving abalone.data to abalone (4).data\n"
          ]
        }
      ],
      "source": [
        "from google.colab import files\n",
        "uploaded = files.upload()\n"
      ]
    },
    {
      "cell_type": "code",
      "source": [
        "!pip install --upgrade pip setuptools wheel\n"
      ],
      "metadata": {
        "colab": {
          "base_uri": "https://localhost:8080/"
        },
        "id": "Dm4p_o_mCnSp",
        "outputId": "ab2c2dbf-7cd2-448d-8143-250c62ba085d"
      },
      "execution_count": null,
      "outputs": [
        {
          "output_type": "stream",
          "name": "stdout",
          "text": [
            "Requirement already satisfied: pip in /usr/local/lib/python3.10/dist-packages (24.3.1)\n",
            "Requirement already satisfied: setuptools in /usr/local/lib/python3.10/dist-packages (75.6.0)\n",
            "Requirement already satisfied: wheel in /usr/local/lib/python3.10/dist-packages (0.45.1)\n"
          ]
        }
      ]
    },
    {
      "cell_type": "code",
      "source": [
        "!pip install pycaret\n"
      ],
      "metadata": {
        "colab": {
          "base_uri": "https://localhost:8080/"
        },
        "id": "jVkTJS30G0g8",
        "outputId": "bbc54e09-172b-4f41-a81d-2b700c23f2da"
      },
      "execution_count": null,
      "outputs": [
        {
          "output_type": "stream",
          "name": "stdout",
          "text": [
            "Requirement already satisfied: pycaret in /usr/local/lib/python3.10/dist-packages (3.3.2)\n",
            "Requirement already satisfied: ipython>=5.5.0 in /usr/local/lib/python3.10/dist-packages (from pycaret) (7.34.0)\n",
            "Requirement already satisfied: ipywidgets>=7.6.5 in /usr/local/lib/python3.10/dist-packages (from pycaret) (7.7.1)\n",
            "Requirement already satisfied: tqdm>=4.62.0 in /usr/local/lib/python3.10/dist-packages (from pycaret) (4.66.6)\n",
            "Requirement already satisfied: numpy<1.27,>=1.21 in /usr/local/lib/python3.10/dist-packages (from pycaret) (1.26.4)\n",
            "Requirement already satisfied: pandas<2.2.0 in /usr/local/lib/python3.10/dist-packages (from pycaret) (2.1.4)\n",
            "Requirement already satisfied: jinja2>=3 in /usr/local/lib/python3.10/dist-packages (from pycaret) (3.1.4)\n",
            "Requirement already satisfied: scipy<=1.11.4,>=1.6.1 in /usr/local/lib/python3.10/dist-packages (from pycaret) (1.11.4)\n",
            "Requirement already satisfied: joblib<1.4,>=1.2.0 in /usr/local/lib/python3.10/dist-packages (from pycaret) (1.3.2)\n",
            "Requirement already satisfied: scikit-learn>1.4.0 in /usr/local/lib/python3.10/dist-packages (from pycaret) (1.4.2)\n",
            "Requirement already satisfied: pyod>=1.1.3 in /usr/local/lib/python3.10/dist-packages (from pycaret) (2.0.2)\n",
            "Requirement already satisfied: imbalanced-learn>=0.12.0 in /usr/local/lib/python3.10/dist-packages (from pycaret) (0.12.4)\n",
            "Requirement already satisfied: category-encoders>=2.4.0 in /usr/local/lib/python3.10/dist-packages (from pycaret) (2.6.4)\n",
            "Requirement already satisfied: lightgbm>=3.0.0 in /usr/local/lib/python3.10/dist-packages (from pycaret) (4.5.0)\n",
            "Requirement already satisfied: numba>=0.55.0 in /usr/local/lib/python3.10/dist-packages (from pycaret) (0.60.0)\n",
            "Requirement already satisfied: requests>=2.27.1 in /usr/local/lib/python3.10/dist-packages (from pycaret) (2.32.3)\n",
            "Requirement already satisfied: psutil>=5.9.0 in /usr/local/lib/python3.10/dist-packages (from pycaret) (5.9.5)\n",
            "Requirement already satisfied: markupsafe>=2.0.1 in /usr/local/lib/python3.10/dist-packages (from pycaret) (3.0.2)\n",
            "Requirement already satisfied: importlib-metadata>=4.12.0 in /usr/local/lib/python3.10/dist-packages (from pycaret) (8.5.0)\n",
            "Requirement already satisfied: nbformat>=4.2.0 in /usr/local/lib/python3.10/dist-packages (from pycaret) (5.10.4)\n",
            "Requirement already satisfied: cloudpickle in /usr/local/lib/python3.10/dist-packages (from pycaret) (3.1.0)\n",
            "Requirement already satisfied: deprecation>=2.1.0 in /usr/local/lib/python3.10/dist-packages (from pycaret) (2.1.0)\n",
            "Requirement already satisfied: xxhash in /usr/local/lib/python3.10/dist-packages (from pycaret) (3.5.0)\n",
            "Requirement already satisfied: matplotlib<3.8.0 in /usr/local/lib/python3.10/dist-packages (from pycaret) (3.7.5)\n",
            "Requirement already satisfied: scikit-plot>=0.3.7 in /usr/local/lib/python3.10/dist-packages (from pycaret) (0.3.7)\n",
            "Requirement already satisfied: yellowbrick>=1.4 in /usr/local/lib/python3.10/dist-packages (from pycaret) (1.5)\n",
            "Requirement already satisfied: plotly>=5.14.0 in /usr/local/lib/python3.10/dist-packages (from pycaret) (5.24.1)\n",
            "Requirement already satisfied: kaleido>=0.2.1 in /usr/local/lib/python3.10/dist-packages (from pycaret) (0.2.1)\n",
            "Requirement already satisfied: schemdraw==0.15 in /usr/local/lib/python3.10/dist-packages (from pycaret) (0.15)\n",
            "Requirement already satisfied: plotly-resampler>=0.8.3.1 in /usr/local/lib/python3.10/dist-packages (from pycaret) (0.10.0)\n",
            "Requirement already satisfied: statsmodels>=0.12.1 in /usr/local/lib/python3.10/dist-packages (from pycaret) (0.14.4)\n",
            "Requirement already satisfied: sktime==0.26.0 in /usr/local/lib/python3.10/dist-packages (from pycaret) (0.26.0)\n",
            "Requirement already satisfied: tbats>=1.1.3 in /usr/local/lib/python3.10/dist-packages (from pycaret) (1.1.3)\n",
            "Requirement already satisfied: pmdarima>=2.0.4 in /usr/local/lib/python3.10/dist-packages (from pycaret) (2.0.4)\n",
            "Requirement already satisfied: wurlitzer in /usr/local/lib/python3.10/dist-packages (from pycaret) (3.1.1)\n",
            "Requirement already satisfied: packaging in /usr/local/lib/python3.10/dist-packages (from sktime==0.26.0->pycaret) (24.2)\n",
            "Requirement already satisfied: scikit-base<0.8.0 in /usr/local/lib/python3.10/dist-packages (from sktime==0.26.0->pycaret) (0.7.8)\n",
            "Requirement already satisfied: patsy>=0.5.1 in /usr/local/lib/python3.10/dist-packages (from category-encoders>=2.4.0->pycaret) (1.0.1)\n",
            "Requirement already satisfied: threadpoolctl>=2.0.0 in /usr/local/lib/python3.10/dist-packages (from imbalanced-learn>=0.12.0->pycaret) (3.5.0)\n",
            "Requirement already satisfied: zipp>=3.20 in /usr/local/lib/python3.10/dist-packages (from importlib-metadata>=4.12.0->pycaret) (3.21.0)\n",
            "Requirement already satisfied: setuptools>=18.5 in /usr/local/lib/python3.10/dist-packages (from ipython>=5.5.0->pycaret) (75.6.0)\n",
            "Requirement already satisfied: jedi>=0.16 in /usr/local/lib/python3.10/dist-packages (from ipython>=5.5.0->pycaret) (0.19.2)\n",
            "Requirement already satisfied: decorator in /usr/local/lib/python3.10/dist-packages (from ipython>=5.5.0->pycaret) (4.4.2)\n",
            "Requirement already satisfied: pickleshare in /usr/local/lib/python3.10/dist-packages (from ipython>=5.5.0->pycaret) (0.7.5)\n",
            "Requirement already satisfied: traitlets>=4.2 in /usr/local/lib/python3.10/dist-packages (from ipython>=5.5.0->pycaret) (5.7.1)\n",
            "Requirement already satisfied: prompt-toolkit!=3.0.0,!=3.0.1,<3.1.0,>=2.0.0 in /usr/local/lib/python3.10/dist-packages (from ipython>=5.5.0->pycaret) (3.0.48)\n",
            "Requirement already satisfied: pygments in /usr/local/lib/python3.10/dist-packages (from ipython>=5.5.0->pycaret) (2.18.0)\n",
            "Requirement already satisfied: backcall in /usr/local/lib/python3.10/dist-packages (from ipython>=5.5.0->pycaret) (0.2.0)\n",
            "Requirement already satisfied: matplotlib-inline in /usr/local/lib/python3.10/dist-packages (from ipython>=5.5.0->pycaret) (0.1.7)\n",
            "Requirement already satisfied: pexpect>4.3 in /usr/local/lib/python3.10/dist-packages (from ipython>=5.5.0->pycaret) (4.9.0)\n",
            "Requirement already satisfied: ipykernel>=4.5.1 in /usr/local/lib/python3.10/dist-packages (from ipywidgets>=7.6.5->pycaret) (5.5.6)\n",
            "Requirement already satisfied: ipython-genutils~=0.2.0 in /usr/local/lib/python3.10/dist-packages (from ipywidgets>=7.6.5->pycaret) (0.2.0)\n",
            "Requirement already satisfied: widgetsnbextension~=3.6.0 in /usr/local/lib/python3.10/dist-packages (from ipywidgets>=7.6.5->pycaret) (3.6.10)\n",
            "Requirement already satisfied: jupyterlab-widgets>=1.0.0 in /usr/local/lib/python3.10/dist-packages (from ipywidgets>=7.6.5->pycaret) (3.0.13)\n",
            "Requirement already satisfied: contourpy>=1.0.1 in /usr/local/lib/python3.10/dist-packages (from matplotlib<3.8.0->pycaret) (1.3.1)\n",
            "Requirement already satisfied: cycler>=0.10 in /usr/local/lib/python3.10/dist-packages (from matplotlib<3.8.0->pycaret) (0.12.1)\n",
            "Requirement already satisfied: fonttools>=4.22.0 in /usr/local/lib/python3.10/dist-packages (from matplotlib<3.8.0->pycaret) (4.55.0)\n",
            "Requirement already satisfied: kiwisolver>=1.0.1 in /usr/local/lib/python3.10/dist-packages (from matplotlib<3.8.0->pycaret) (1.4.7)\n",
            "Requirement already satisfied: pillow>=6.2.0 in /usr/local/lib/python3.10/dist-packages (from matplotlib<3.8.0->pycaret) (11.0.0)\n",
            "Requirement already satisfied: pyparsing>=2.3.1 in /usr/local/lib/python3.10/dist-packages (from matplotlib<3.8.0->pycaret) (3.2.0)\n",
            "Requirement already satisfied: python-dateutil>=2.7 in /usr/local/lib/python3.10/dist-packages (from matplotlib<3.8.0->pycaret) (2.8.2)\n",
            "Requirement already satisfied: fastjsonschema>=2.15 in /usr/local/lib/python3.10/dist-packages (from nbformat>=4.2.0->pycaret) (2.20.0)\n",
            "Requirement already satisfied: jsonschema>=2.6 in /usr/local/lib/python3.10/dist-packages (from nbformat>=4.2.0->pycaret) (4.23.0)\n",
            "Requirement already satisfied: jupyter-core!=5.0.*,>=4.12 in /usr/local/lib/python3.10/dist-packages (from nbformat>=4.2.0->pycaret) (5.7.2)\n",
            "Requirement already satisfied: llvmlite<0.44,>=0.43.0dev0 in /usr/local/lib/python3.10/dist-packages (from numba>=0.55.0->pycaret) (0.43.0)\n",
            "Requirement already satisfied: pytz>=2020.1 in /usr/local/lib/python3.10/dist-packages (from pandas<2.2.0->pycaret) (2024.2)\n",
            "Requirement already satisfied: tzdata>=2022.1 in /usr/local/lib/python3.10/dist-packages (from pandas<2.2.0->pycaret) (2024.2)\n",
            "Requirement already satisfied: tenacity>=6.2.0 in /usr/local/lib/python3.10/dist-packages (from plotly>=5.14.0->pycaret) (9.0.0)\n",
            "Requirement already satisfied: dash>=2.9.0 in /usr/local/lib/python3.10/dist-packages (from plotly-resampler>=0.8.3.1->pycaret) (2.18.2)\n",
            "Requirement already satisfied: orjson<4.0.0,>=3.8.0 in /usr/local/lib/python3.10/dist-packages (from plotly-resampler>=0.8.3.1->pycaret) (3.10.11)\n",
            "Requirement already satisfied: tsdownsample>=0.1.3 in /usr/local/lib/python3.10/dist-packages (from plotly-resampler>=0.8.3.1->pycaret) (0.1.3)\n",
            "Requirement already satisfied: Cython!=0.29.18,!=0.29.31,>=0.29 in /usr/local/lib/python3.10/dist-packages (from pmdarima>=2.0.4->pycaret) (3.0.11)\n",
            "Requirement already satisfied: urllib3 in /usr/local/lib/python3.10/dist-packages (from pmdarima>=2.0.4->pycaret) (2.2.3)\n",
            "Requirement already satisfied: charset-normalizer<4,>=2 in /usr/local/lib/python3.10/dist-packages (from requests>=2.27.1->pycaret) (3.4.0)\n",
            "Requirement already satisfied: idna<4,>=2.5 in /usr/local/lib/python3.10/dist-packages (from requests>=2.27.1->pycaret) (3.10)\n",
            "Requirement already satisfied: certifi>=2017.4.17 in /usr/local/lib/python3.10/dist-packages (from requests>=2.27.1->pycaret) (2024.8.30)\n",
            "Requirement already satisfied: Flask<3.1,>=1.0.4 in /usr/local/lib/python3.10/dist-packages (from dash>=2.9.0->plotly-resampler>=0.8.3.1->pycaret) (3.0.3)\n",
            "Requirement already satisfied: Werkzeug<3.1 in /usr/local/lib/python3.10/dist-packages (from dash>=2.9.0->plotly-resampler>=0.8.3.1->pycaret) (3.0.6)\n",
            "Requirement already satisfied: dash-html-components==2.0.0 in /usr/local/lib/python3.10/dist-packages (from dash>=2.9.0->plotly-resampler>=0.8.3.1->pycaret) (2.0.0)\n",
            "Requirement already satisfied: dash-core-components==2.0.0 in /usr/local/lib/python3.10/dist-packages (from dash>=2.9.0->plotly-resampler>=0.8.3.1->pycaret) (2.0.0)\n",
            "Requirement already satisfied: dash-table==5.0.0 in /usr/local/lib/python3.10/dist-packages (from dash>=2.9.0->plotly-resampler>=0.8.3.1->pycaret) (5.0.0)\n",
            "Requirement already satisfied: typing-extensions>=4.1.1 in /usr/local/lib/python3.10/dist-packages (from dash>=2.9.0->plotly-resampler>=0.8.3.1->pycaret) (4.12.2)\n",
            "Requirement already satisfied: retrying in /usr/local/lib/python3.10/dist-packages (from dash>=2.9.0->plotly-resampler>=0.8.3.1->pycaret) (1.3.4)\n",
            "Requirement already satisfied: nest-asyncio in /usr/local/lib/python3.10/dist-packages (from dash>=2.9.0->plotly-resampler>=0.8.3.1->pycaret) (1.6.0)\n",
            "Requirement already satisfied: jupyter-client in /usr/local/lib/python3.10/dist-packages (from ipykernel>=4.5.1->ipywidgets>=7.6.5->pycaret) (6.1.12)\n",
            "Requirement already satisfied: tornado>=4.2 in /usr/local/lib/python3.10/dist-packages (from ipykernel>=4.5.1->ipywidgets>=7.6.5->pycaret) (6.3.3)\n",
            "Requirement already satisfied: parso<0.9.0,>=0.8.4 in /usr/local/lib/python3.10/dist-packages (from jedi>=0.16->ipython>=5.5.0->pycaret) (0.8.4)\n",
            "Requirement already satisfied: attrs>=22.2.0 in /usr/local/lib/python3.10/dist-packages (from jsonschema>=2.6->nbformat>=4.2.0->pycaret) (24.2.0)\n",
            "Requirement already satisfied: jsonschema-specifications>=2023.03.6 in /usr/local/lib/python3.10/dist-packages (from jsonschema>=2.6->nbformat>=4.2.0->pycaret) (2024.10.1)\n",
            "Requirement already satisfied: referencing>=0.28.4 in /usr/local/lib/python3.10/dist-packages (from jsonschema>=2.6->nbformat>=4.2.0->pycaret) (0.35.1)\n",
            "Requirement already satisfied: rpds-py>=0.7.1 in /usr/local/lib/python3.10/dist-packages (from jsonschema>=2.6->nbformat>=4.2.0->pycaret) (0.21.0)\n",
            "Requirement already satisfied: platformdirs>=2.5 in /usr/local/lib/python3.10/dist-packages (from jupyter-core!=5.0.*,>=4.12->nbformat>=4.2.0->pycaret) (4.3.6)\n",
            "Requirement already satisfied: ptyprocess>=0.5 in /usr/local/lib/python3.10/dist-packages (from pexpect>4.3->ipython>=5.5.0->pycaret) (0.7.0)\n",
            "Requirement already satisfied: wcwidth in /usr/local/lib/python3.10/dist-packages (from prompt-toolkit!=3.0.0,!=3.0.1,<3.1.0,>=2.0.0->ipython>=5.5.0->pycaret) (0.2.13)\n",
            "Requirement already satisfied: six>=1.5 in /usr/local/lib/python3.10/dist-packages (from python-dateutil>=2.7->matplotlib<3.8.0->pycaret) (1.16.0)\n",
            "Requirement already satisfied: notebook>=4.4.1 in /usr/local/lib/python3.10/dist-packages (from widgetsnbextension~=3.6.0->ipywidgets>=7.6.5->pycaret) (6.5.5)\n",
            "Requirement already satisfied: itsdangerous>=2.1.2 in /usr/local/lib/python3.10/dist-packages (from Flask<3.1,>=1.0.4->dash>=2.9.0->plotly-resampler>=0.8.3.1->pycaret) (2.2.0)\n",
            "Requirement already satisfied: click>=8.1.3 in /usr/local/lib/python3.10/dist-packages (from Flask<3.1,>=1.0.4->dash>=2.9.0->plotly-resampler>=0.8.3.1->pycaret) (8.1.7)\n",
            "Requirement already satisfied: blinker>=1.6.2 in /usr/local/lib/python3.10/dist-packages (from Flask<3.1,>=1.0.4->dash>=2.9.0->plotly-resampler>=0.8.3.1->pycaret) (1.9.0)\n",
            "Requirement already satisfied: pyzmq<25,>=17 in /usr/local/lib/python3.10/dist-packages (from notebook>=4.4.1->widgetsnbextension~=3.6.0->ipywidgets>=7.6.5->pycaret) (24.0.1)\n",
            "Requirement already satisfied: argon2-cffi in /usr/local/lib/python3.10/dist-packages (from notebook>=4.4.1->widgetsnbextension~=3.6.0->ipywidgets>=7.6.5->pycaret) (23.1.0)\n",
            "Requirement already satisfied: nbconvert>=5 in /usr/local/lib/python3.10/dist-packages (from notebook>=4.4.1->widgetsnbextension~=3.6.0->ipywidgets>=7.6.5->pycaret) (7.16.4)\n",
            "Requirement already satisfied: Send2Trash>=1.8.0 in /usr/local/lib/python3.10/dist-packages (from notebook>=4.4.1->widgetsnbextension~=3.6.0->ipywidgets>=7.6.5->pycaret) (1.8.3)\n",
            "Requirement already satisfied: terminado>=0.8.3 in /usr/local/lib/python3.10/dist-packages (from notebook>=4.4.1->widgetsnbextension~=3.6.0->ipywidgets>=7.6.5->pycaret) (0.18.1)\n",
            "Requirement already satisfied: prometheus-client in /usr/local/lib/python3.10/dist-packages (from notebook>=4.4.1->widgetsnbextension~=3.6.0->ipywidgets>=7.6.5->pycaret) (0.21.0)\n",
            "Requirement already satisfied: nbclassic>=0.4.7 in /usr/local/lib/python3.10/dist-packages (from notebook>=4.4.1->widgetsnbextension~=3.6.0->ipywidgets>=7.6.5->pycaret) (1.1.0)\n",
            "Requirement already satisfied: notebook-shim>=0.2.3 in /usr/local/lib/python3.10/dist-packages (from nbclassic>=0.4.7->notebook>=4.4.1->widgetsnbextension~=3.6.0->ipywidgets>=7.6.5->pycaret) (0.2.4)\n",
            "Requirement already satisfied: beautifulsoup4 in /usr/local/lib/python3.10/dist-packages (from nbconvert>=5->notebook>=4.4.1->widgetsnbextension~=3.6.0->ipywidgets>=7.6.5->pycaret) (4.12.3)\n",
            "Requirement already satisfied: bleach!=5.0.0 in /usr/local/lib/python3.10/dist-packages (from nbconvert>=5->notebook>=4.4.1->widgetsnbextension~=3.6.0->ipywidgets>=7.6.5->pycaret) (6.2.0)\n",
            "Requirement already satisfied: defusedxml in /usr/local/lib/python3.10/dist-packages (from nbconvert>=5->notebook>=4.4.1->widgetsnbextension~=3.6.0->ipywidgets>=7.6.5->pycaret) (0.7.1)\n",
            "Requirement already satisfied: jupyterlab-pygments in /usr/local/lib/python3.10/dist-packages (from nbconvert>=5->notebook>=4.4.1->widgetsnbextension~=3.6.0->ipywidgets>=7.6.5->pycaret) (0.3.0)\n",
            "Requirement already satisfied: mistune<4,>=2.0.3 in /usr/local/lib/python3.10/dist-packages (from nbconvert>=5->notebook>=4.4.1->widgetsnbextension~=3.6.0->ipywidgets>=7.6.5->pycaret) (3.0.2)\n",
            "Requirement already satisfied: nbclient>=0.5.0 in /usr/local/lib/python3.10/dist-packages (from nbconvert>=5->notebook>=4.4.1->widgetsnbextension~=3.6.0->ipywidgets>=7.6.5->pycaret) (0.10.0)\n",
            "Requirement already satisfied: pandocfilters>=1.4.1 in /usr/local/lib/python3.10/dist-packages (from nbconvert>=5->notebook>=4.4.1->widgetsnbextension~=3.6.0->ipywidgets>=7.6.5->pycaret) (1.5.1)\n",
            "Requirement already satisfied: tinycss2 in /usr/local/lib/python3.10/dist-packages (from nbconvert>=5->notebook>=4.4.1->widgetsnbextension~=3.6.0->ipywidgets>=7.6.5->pycaret) (1.4.0)\n",
            "Requirement already satisfied: argon2-cffi-bindings in /usr/local/lib/python3.10/dist-packages (from argon2-cffi->notebook>=4.4.1->widgetsnbextension~=3.6.0->ipywidgets>=7.6.5->pycaret) (21.2.0)\n",
            "Requirement already satisfied: webencodings in /usr/local/lib/python3.10/dist-packages (from bleach!=5.0.0->nbconvert>=5->notebook>=4.4.1->widgetsnbextension~=3.6.0->ipywidgets>=7.6.5->pycaret) (0.5.1)\n",
            "Requirement already satisfied: jupyter-server<3,>=1.8 in /usr/local/lib/python3.10/dist-packages (from notebook-shim>=0.2.3->nbclassic>=0.4.7->notebook>=4.4.1->widgetsnbextension~=3.6.0->ipywidgets>=7.6.5->pycaret) (1.24.0)\n",
            "Requirement already satisfied: cffi>=1.0.1 in /usr/local/lib/python3.10/dist-packages (from argon2-cffi-bindings->argon2-cffi->notebook>=4.4.1->widgetsnbextension~=3.6.0->ipywidgets>=7.6.5->pycaret) (1.17.1)\n",
            "Requirement already satisfied: soupsieve>1.2 in /usr/local/lib/python3.10/dist-packages (from beautifulsoup4->nbconvert>=5->notebook>=4.4.1->widgetsnbextension~=3.6.0->ipywidgets>=7.6.5->pycaret) (2.6)\n",
            "Requirement already satisfied: pycparser in /usr/local/lib/python3.10/dist-packages (from cffi>=1.0.1->argon2-cffi-bindings->argon2-cffi->notebook>=4.4.1->widgetsnbextension~=3.6.0->ipywidgets>=7.6.5->pycaret) (2.22)\n",
            "Requirement already satisfied: anyio<4,>=3.1.0 in /usr/local/lib/python3.10/dist-packages (from jupyter-server<3,>=1.8->notebook-shim>=0.2.3->nbclassic>=0.4.7->notebook>=4.4.1->widgetsnbextension~=3.6.0->ipywidgets>=7.6.5->pycaret) (3.7.1)\n",
            "Requirement already satisfied: websocket-client in /usr/local/lib/python3.10/dist-packages (from jupyter-server<3,>=1.8->notebook-shim>=0.2.3->nbclassic>=0.4.7->notebook>=4.4.1->widgetsnbextension~=3.6.0->ipywidgets>=7.6.5->pycaret) (1.8.0)\n",
            "Requirement already satisfied: sniffio>=1.1 in /usr/local/lib/python3.10/dist-packages (from anyio<4,>=3.1.0->jupyter-server<3,>=1.8->notebook-shim>=0.2.3->nbclassic>=0.4.7->notebook>=4.4.1->widgetsnbextension~=3.6.0->ipywidgets>=7.6.5->pycaret) (1.3.1)\n",
            "Requirement already satisfied: exceptiongroup in /usr/local/lib/python3.10/dist-packages (from anyio<4,>=3.1.0->jupyter-server<3,>=1.8->notebook-shim>=0.2.3->nbclassic>=0.4.7->notebook>=4.4.1->widgetsnbextension~=3.6.0->ipywidgets>=7.6.5->pycaret) (1.2.2)\n"
          ]
        }
      ]
    },
    {
      "cell_type": "code",
      "source": [
        "import pandas as pd\n",
        "from pycaret.regression import *\n",
        "\n",
        "columns = [\n",
        "    \"Sex\", \"Length\", \"Diameter\", \"Height\",\n",
        "    \"WholeWeight\", \"ShuckedWeight\", \"VisceraWeight\",\n",
        "    \"ShellWeight\", \"Rings\"\n",
        "]\n",
        "\n",
        "data = pd.read_csv('abalone.data', header=None, names=columns)\n",
        "data['Age'] = data['Rings'] + 1.5\n",
        "\n",
        "s = setup(data, target='Age', session_id=123)\n"
      ],
      "metadata": {
        "colab": {
          "base_uri": "https://localhost:8080/",
          "height": 739
        },
        "id": "Q6TkjuVTG5Dt",
        "outputId": "1b57dd68-a596-425d-ea1b-b5ca7717866a"
      },
      "execution_count": null,
      "outputs": [
        {
          "output_type": "display_data",
          "data": {
            "text/plain": [
              "<pandas.io.formats.style.Styler at 0x7bea8ac772b0>"
            ],
            "text/html": [
              "<style type=\"text/css\">\n",
              "#T_8fa12_row9_col1 {\n",
              "  background-color: lightgreen;\n",
              "}\n",
              "</style>\n",
              "<table id=\"T_8fa12\" class=\"dataframe\">\n",
              "  <thead>\n",
              "    <tr>\n",
              "      <th class=\"blank level0\" >&nbsp;</th>\n",
              "      <th id=\"T_8fa12_level0_col0\" class=\"col_heading level0 col0\" >Description</th>\n",
              "      <th id=\"T_8fa12_level0_col1\" class=\"col_heading level0 col1\" >Value</th>\n",
              "    </tr>\n",
              "  </thead>\n",
              "  <tbody>\n",
              "    <tr>\n",
              "      <th id=\"T_8fa12_level0_row0\" class=\"row_heading level0 row0\" >0</th>\n",
              "      <td id=\"T_8fa12_row0_col0\" class=\"data row0 col0\" >Session id</td>\n",
              "      <td id=\"T_8fa12_row0_col1\" class=\"data row0 col1\" >123</td>\n",
              "    </tr>\n",
              "    <tr>\n",
              "      <th id=\"T_8fa12_level0_row1\" class=\"row_heading level0 row1\" >1</th>\n",
              "      <td id=\"T_8fa12_row1_col0\" class=\"data row1 col0\" >Target</td>\n",
              "      <td id=\"T_8fa12_row1_col1\" class=\"data row1 col1\" >Age</td>\n",
              "    </tr>\n",
              "    <tr>\n",
              "      <th id=\"T_8fa12_level0_row2\" class=\"row_heading level0 row2\" >2</th>\n",
              "      <td id=\"T_8fa12_row2_col0\" class=\"data row2 col0\" >Target type</td>\n",
              "      <td id=\"T_8fa12_row2_col1\" class=\"data row2 col1\" >Regression</td>\n",
              "    </tr>\n",
              "    <tr>\n",
              "      <th id=\"T_8fa12_level0_row3\" class=\"row_heading level0 row3\" >3</th>\n",
              "      <td id=\"T_8fa12_row3_col0\" class=\"data row3 col0\" >Original data shape</td>\n",
              "      <td id=\"T_8fa12_row3_col1\" class=\"data row3 col1\" >(4177, 10)</td>\n",
              "    </tr>\n",
              "    <tr>\n",
              "      <th id=\"T_8fa12_level0_row4\" class=\"row_heading level0 row4\" >4</th>\n",
              "      <td id=\"T_8fa12_row4_col0\" class=\"data row4 col0\" >Transformed data shape</td>\n",
              "      <td id=\"T_8fa12_row4_col1\" class=\"data row4 col1\" >(4177, 12)</td>\n",
              "    </tr>\n",
              "    <tr>\n",
              "      <th id=\"T_8fa12_level0_row5\" class=\"row_heading level0 row5\" >5</th>\n",
              "      <td id=\"T_8fa12_row5_col0\" class=\"data row5 col0\" >Transformed train set shape</td>\n",
              "      <td id=\"T_8fa12_row5_col1\" class=\"data row5 col1\" >(2923, 12)</td>\n",
              "    </tr>\n",
              "    <tr>\n",
              "      <th id=\"T_8fa12_level0_row6\" class=\"row_heading level0 row6\" >6</th>\n",
              "      <td id=\"T_8fa12_row6_col0\" class=\"data row6 col0\" >Transformed test set shape</td>\n",
              "      <td id=\"T_8fa12_row6_col1\" class=\"data row6 col1\" >(1254, 12)</td>\n",
              "    </tr>\n",
              "    <tr>\n",
              "      <th id=\"T_8fa12_level0_row7\" class=\"row_heading level0 row7\" >7</th>\n",
              "      <td id=\"T_8fa12_row7_col0\" class=\"data row7 col0\" >Numeric features</td>\n",
              "      <td id=\"T_8fa12_row7_col1\" class=\"data row7 col1\" >8</td>\n",
              "    </tr>\n",
              "    <tr>\n",
              "      <th id=\"T_8fa12_level0_row8\" class=\"row_heading level0 row8\" >8</th>\n",
              "      <td id=\"T_8fa12_row8_col0\" class=\"data row8 col0\" >Categorical features</td>\n",
              "      <td id=\"T_8fa12_row8_col1\" class=\"data row8 col1\" >1</td>\n",
              "    </tr>\n",
              "    <tr>\n",
              "      <th id=\"T_8fa12_level0_row9\" class=\"row_heading level0 row9\" >9</th>\n",
              "      <td id=\"T_8fa12_row9_col0\" class=\"data row9 col0\" >Preprocess</td>\n",
              "      <td id=\"T_8fa12_row9_col1\" class=\"data row9 col1\" >True</td>\n",
              "    </tr>\n",
              "    <tr>\n",
              "      <th id=\"T_8fa12_level0_row10\" class=\"row_heading level0 row10\" >10</th>\n",
              "      <td id=\"T_8fa12_row10_col0\" class=\"data row10 col0\" >Imputation type</td>\n",
              "      <td id=\"T_8fa12_row10_col1\" class=\"data row10 col1\" >simple</td>\n",
              "    </tr>\n",
              "    <tr>\n",
              "      <th id=\"T_8fa12_level0_row11\" class=\"row_heading level0 row11\" >11</th>\n",
              "      <td id=\"T_8fa12_row11_col0\" class=\"data row11 col0\" >Numeric imputation</td>\n",
              "      <td id=\"T_8fa12_row11_col1\" class=\"data row11 col1\" >mean</td>\n",
              "    </tr>\n",
              "    <tr>\n",
              "      <th id=\"T_8fa12_level0_row12\" class=\"row_heading level0 row12\" >12</th>\n",
              "      <td id=\"T_8fa12_row12_col0\" class=\"data row12 col0\" >Categorical imputation</td>\n",
              "      <td id=\"T_8fa12_row12_col1\" class=\"data row12 col1\" >mode</td>\n",
              "    </tr>\n",
              "    <tr>\n",
              "      <th id=\"T_8fa12_level0_row13\" class=\"row_heading level0 row13\" >13</th>\n",
              "      <td id=\"T_8fa12_row13_col0\" class=\"data row13 col0\" >Maximum one-hot encoding</td>\n",
              "      <td id=\"T_8fa12_row13_col1\" class=\"data row13 col1\" >25</td>\n",
              "    </tr>\n",
              "    <tr>\n",
              "      <th id=\"T_8fa12_level0_row14\" class=\"row_heading level0 row14\" >14</th>\n",
              "      <td id=\"T_8fa12_row14_col0\" class=\"data row14 col0\" >Encoding method</td>\n",
              "      <td id=\"T_8fa12_row14_col1\" class=\"data row14 col1\" >None</td>\n",
              "    </tr>\n",
              "    <tr>\n",
              "      <th id=\"T_8fa12_level0_row15\" class=\"row_heading level0 row15\" >15</th>\n",
              "      <td id=\"T_8fa12_row15_col0\" class=\"data row15 col0\" >Fold Generator</td>\n",
              "      <td id=\"T_8fa12_row15_col1\" class=\"data row15 col1\" >KFold</td>\n",
              "    </tr>\n",
              "    <tr>\n",
              "      <th id=\"T_8fa12_level0_row16\" class=\"row_heading level0 row16\" >16</th>\n",
              "      <td id=\"T_8fa12_row16_col0\" class=\"data row16 col0\" >Fold Number</td>\n",
              "      <td id=\"T_8fa12_row16_col1\" class=\"data row16 col1\" >10</td>\n",
              "    </tr>\n",
              "    <tr>\n",
              "      <th id=\"T_8fa12_level0_row17\" class=\"row_heading level0 row17\" >17</th>\n",
              "      <td id=\"T_8fa12_row17_col0\" class=\"data row17 col0\" >CPU Jobs</td>\n",
              "      <td id=\"T_8fa12_row17_col1\" class=\"data row17 col1\" >-1</td>\n",
              "    </tr>\n",
              "    <tr>\n",
              "      <th id=\"T_8fa12_level0_row18\" class=\"row_heading level0 row18\" >18</th>\n",
              "      <td id=\"T_8fa12_row18_col0\" class=\"data row18 col0\" >Use GPU</td>\n",
              "      <td id=\"T_8fa12_row18_col1\" class=\"data row18 col1\" >False</td>\n",
              "    </tr>\n",
              "    <tr>\n",
              "      <th id=\"T_8fa12_level0_row19\" class=\"row_heading level0 row19\" >19</th>\n",
              "      <td id=\"T_8fa12_row19_col0\" class=\"data row19 col0\" >Log Experiment</td>\n",
              "      <td id=\"T_8fa12_row19_col1\" class=\"data row19 col1\" >False</td>\n",
              "    </tr>\n",
              "    <tr>\n",
              "      <th id=\"T_8fa12_level0_row20\" class=\"row_heading level0 row20\" >20</th>\n",
              "      <td id=\"T_8fa12_row20_col0\" class=\"data row20 col0\" >Experiment Name</td>\n",
              "      <td id=\"T_8fa12_row20_col1\" class=\"data row20 col1\" >reg-default-name</td>\n",
              "    </tr>\n",
              "    <tr>\n",
              "      <th id=\"T_8fa12_level0_row21\" class=\"row_heading level0 row21\" >21</th>\n",
              "      <td id=\"T_8fa12_row21_col0\" class=\"data row21 col0\" >USI</td>\n",
              "      <td id=\"T_8fa12_row21_col1\" class=\"data row21 col1\" >c356</td>\n",
              "    </tr>\n",
              "  </tbody>\n",
              "</table>\n"
            ]
          },
          "metadata": {}
        }
      ]
    },
    {
      "cell_type": "code",
      "source": [
        "best_model = compare_models()\n"
      ],
      "metadata": {
        "colab": {
          "base_uri": "https://localhost:8080/",
          "height": 645,
          "referenced_widgets": [
            "86b63ad0636b4be7a31ec9404b7327af",
            "d6e2cf93d7804b5e9b5c373d314bc84d",
            "43c75f4ac4b6494193463dcfaad1eaee",
            "e95f98cc3ed341d08b94ce26ac97ad89",
            "019d3b1ece54406b94c84b10d9b20271",
            "6ec95271f37b4988806a46c3c514bf32",
            "cb5e72b7a3424884b61ac169df1fcc21",
            "4939a626d8db4bd183409d5810085adf",
            "e521c04ccdfb47fab653ab7af2864165",
            "3bded2be102e4df2b449ab8f1bb2cabc",
            "7a3ae854623a475e9b89663bd347424c"
          ]
        },
        "id": "ECEfl_KoHP3D",
        "outputId": "290b6ee4-9369-4aa0-96ae-2a64064248af"
      },
      "execution_count": null,
      "outputs": [
        {
          "output_type": "display_data",
          "data": {
            "text/plain": [
              "<IPython.core.display.HTML object>"
            ],
            "text/html": []
          },
          "metadata": {}
        },
        {
          "output_type": "display_data",
          "data": {
            "text/plain": [
              "<pandas.io.formats.style.Styler at 0x7bea8b76a860>"
            ],
            "text/html": [
              "<style type=\"text/css\">\n",
              "#T_38608 th {\n",
              "  text-align: left;\n",
              "}\n",
              "#T_38608_row0_col0, #T_38608_row1_col0, #T_38608_row1_col1, #T_38608_row1_col3, #T_38608_row2_col0, #T_38608_row3_col0, #T_38608_row4_col0, #T_38608_row5_col0, #T_38608_row5_col1, #T_38608_row5_col3, #T_38608_row6_col0, #T_38608_row6_col1, #T_38608_row6_col2, #T_38608_row6_col3, #T_38608_row6_col4, #T_38608_row6_col5, #T_38608_row6_col6, #T_38608_row7_col0, #T_38608_row7_col1, #T_38608_row7_col2, #T_38608_row7_col3, #T_38608_row7_col4, #T_38608_row7_col5, #T_38608_row7_col6, #T_38608_row8_col0, #T_38608_row8_col1, #T_38608_row8_col2, #T_38608_row8_col3, #T_38608_row8_col4, #T_38608_row8_col5, #T_38608_row8_col6, #T_38608_row9_col0, #T_38608_row9_col1, #T_38608_row9_col2, #T_38608_row9_col3, #T_38608_row9_col4, #T_38608_row9_col5, #T_38608_row9_col6, #T_38608_row10_col0, #T_38608_row10_col1, #T_38608_row10_col2, #T_38608_row10_col3, #T_38608_row10_col4, #T_38608_row10_col5, #T_38608_row10_col6, #T_38608_row11_col0, #T_38608_row11_col1, #T_38608_row11_col2, #T_38608_row11_col3, #T_38608_row11_col4, #T_38608_row11_col5, #T_38608_row11_col6, #T_38608_row12_col0, #T_38608_row12_col1, #T_38608_row12_col2, #T_38608_row12_col3, #T_38608_row12_col4, #T_38608_row12_col5, #T_38608_row12_col6, #T_38608_row13_col0, #T_38608_row13_col1, #T_38608_row13_col2, #T_38608_row13_col3, #T_38608_row13_col4, #T_38608_row13_col5, #T_38608_row13_col6, #T_38608_row14_col0, #T_38608_row14_col1, #T_38608_row14_col2, #T_38608_row14_col3, #T_38608_row14_col4, #T_38608_row14_col5, #T_38608_row14_col6, #T_38608_row15_col0, #T_38608_row15_col1, #T_38608_row15_col2, #T_38608_row15_col3, #T_38608_row15_col4, #T_38608_row15_col5, #T_38608_row15_col6, #T_38608_row16_col0, #T_38608_row16_col1, #T_38608_row16_col2, #T_38608_row16_col3, #T_38608_row16_col4, #T_38608_row16_col5, #T_38608_row16_col6, #T_38608_row17_col0, #T_38608_row17_col1, #T_38608_row17_col2, #T_38608_row17_col3, #T_38608_row17_col4, #T_38608_row17_col5, #T_38608_row17_col6, #T_38608_row18_col0, #T_38608_row18_col1, #T_38608_row18_col2, #T_38608_row18_col3, #T_38608_row18_col4, #T_38608_row18_col5, #T_38608_row18_col6 {\n",
              "  text-align: left;\n",
              "}\n",
              "#T_38608_row0_col1, #T_38608_row0_col2, #T_38608_row0_col3, #T_38608_row0_col4, #T_38608_row0_col5, #T_38608_row0_col6, #T_38608_row1_col2, #T_38608_row1_col4, #T_38608_row1_col5, #T_38608_row1_col6, #T_38608_row2_col1, #T_38608_row2_col2, #T_38608_row2_col3, #T_38608_row2_col4, #T_38608_row2_col5, #T_38608_row2_col6, #T_38608_row3_col1, #T_38608_row3_col2, #T_38608_row3_col3, #T_38608_row3_col4, #T_38608_row3_col5, #T_38608_row3_col6, #T_38608_row4_col1, #T_38608_row4_col2, #T_38608_row4_col3, #T_38608_row4_col4, #T_38608_row4_col5, #T_38608_row4_col6, #T_38608_row5_col2, #T_38608_row5_col4, #T_38608_row5_col5, #T_38608_row5_col6 {\n",
              "  text-align: left;\n",
              "  background-color: yellow;\n",
              "}\n",
              "#T_38608_row0_col7, #T_38608_row1_col7, #T_38608_row2_col7, #T_38608_row3_col7, #T_38608_row5_col7, #T_38608_row6_col7, #T_38608_row7_col7, #T_38608_row8_col7, #T_38608_row9_col7, #T_38608_row10_col7, #T_38608_row11_col7, #T_38608_row12_col7, #T_38608_row13_col7, #T_38608_row14_col7, #T_38608_row15_col7, #T_38608_row16_col7, #T_38608_row17_col7, #T_38608_row18_col7 {\n",
              "  text-align: left;\n",
              "  background-color: lightgrey;\n",
              "}\n",
              "#T_38608_row4_col7 {\n",
              "  text-align: left;\n",
              "  background-color: yellow;\n",
              "  background-color: lightgrey;\n",
              "}\n",
              "</style>\n",
              "<table id=\"T_38608\" class=\"dataframe\">\n",
              "  <thead>\n",
              "    <tr>\n",
              "      <th class=\"blank level0\" >&nbsp;</th>\n",
              "      <th id=\"T_38608_level0_col0\" class=\"col_heading level0 col0\" >Model</th>\n",
              "      <th id=\"T_38608_level0_col1\" class=\"col_heading level0 col1\" >MAE</th>\n",
              "      <th id=\"T_38608_level0_col2\" class=\"col_heading level0 col2\" >MSE</th>\n",
              "      <th id=\"T_38608_level0_col3\" class=\"col_heading level0 col3\" >RMSE</th>\n",
              "      <th id=\"T_38608_level0_col4\" class=\"col_heading level0 col4\" >R2</th>\n",
              "      <th id=\"T_38608_level0_col5\" class=\"col_heading level0 col5\" >RMSLE</th>\n",
              "      <th id=\"T_38608_level0_col6\" class=\"col_heading level0 col6\" >MAPE</th>\n",
              "      <th id=\"T_38608_level0_col7\" class=\"col_heading level0 col7\" >TT (Sec)</th>\n",
              "    </tr>\n",
              "  </thead>\n",
              "  <tbody>\n",
              "    <tr>\n",
              "      <th id=\"T_38608_level0_row0\" class=\"row_heading level0 row0\" >lr</th>\n",
              "      <td id=\"T_38608_row0_col0\" class=\"data row0 col0\" >Linear Regression</td>\n",
              "      <td id=\"T_38608_row0_col1\" class=\"data row0 col1\" >0.0000</td>\n",
              "      <td id=\"T_38608_row0_col2\" class=\"data row0 col2\" >0.0000</td>\n",
              "      <td id=\"T_38608_row0_col3\" class=\"data row0 col3\" >0.0000</td>\n",
              "      <td id=\"T_38608_row0_col4\" class=\"data row0 col4\" >1.0000</td>\n",
              "      <td id=\"T_38608_row0_col5\" class=\"data row0 col5\" >0.0000</td>\n",
              "      <td id=\"T_38608_row0_col6\" class=\"data row0 col6\" >0.0000</td>\n",
              "      <td id=\"T_38608_row0_col7\" class=\"data row0 col7\" >1.4820</td>\n",
              "    </tr>\n",
              "    <tr>\n",
              "      <th id=\"T_38608_level0_row1\" class=\"row_heading level0 row1\" >ridge</th>\n",
              "      <td id=\"T_38608_row1_col0\" class=\"data row1 col0\" >Ridge Regression</td>\n",
              "      <td id=\"T_38608_row1_col1\" class=\"data row1 col1\" >0.0001</td>\n",
              "      <td id=\"T_38608_row1_col2\" class=\"data row1 col2\" >0.0000</td>\n",
              "      <td id=\"T_38608_row1_col3\" class=\"data row1 col3\" >0.0002</td>\n",
              "      <td id=\"T_38608_row1_col4\" class=\"data row1 col4\" >1.0000</td>\n",
              "      <td id=\"T_38608_row1_col5\" class=\"data row1 col5\" >0.0000</td>\n",
              "      <td id=\"T_38608_row1_col6\" class=\"data row1 col6\" >0.0000</td>\n",
              "      <td id=\"T_38608_row1_col7\" class=\"data row1 col7\" >0.1670</td>\n",
              "    </tr>\n",
              "    <tr>\n",
              "      <th id=\"T_38608_level0_row2\" class=\"row_heading level0 row2\" >lar</th>\n",
              "      <td id=\"T_38608_row2_col0\" class=\"data row2 col0\" >Least Angle Regression</td>\n",
              "      <td id=\"T_38608_row2_col1\" class=\"data row2 col1\" >0.0000</td>\n",
              "      <td id=\"T_38608_row2_col2\" class=\"data row2 col2\" >0.0000</td>\n",
              "      <td id=\"T_38608_row2_col3\" class=\"data row2 col3\" >0.0000</td>\n",
              "      <td id=\"T_38608_row2_col4\" class=\"data row2 col4\" >1.0000</td>\n",
              "      <td id=\"T_38608_row2_col5\" class=\"data row2 col5\" >0.0000</td>\n",
              "      <td id=\"T_38608_row2_col6\" class=\"data row2 col6\" >0.0000</td>\n",
              "      <td id=\"T_38608_row2_col7\" class=\"data row2 col7\" >0.1570</td>\n",
              "    </tr>\n",
              "    <tr>\n",
              "      <th id=\"T_38608_level0_row3\" class=\"row_heading level0 row3\" >omp</th>\n",
              "      <td id=\"T_38608_row3_col0\" class=\"data row3 col0\" >Orthogonal Matching Pursuit</td>\n",
              "      <td id=\"T_38608_row3_col1\" class=\"data row3 col1\" >0.0000</td>\n",
              "      <td id=\"T_38608_row3_col2\" class=\"data row3 col2\" >0.0000</td>\n",
              "      <td id=\"T_38608_row3_col3\" class=\"data row3 col3\" >0.0000</td>\n",
              "      <td id=\"T_38608_row3_col4\" class=\"data row3 col4\" >1.0000</td>\n",
              "      <td id=\"T_38608_row3_col5\" class=\"data row3 col5\" >0.0000</td>\n",
              "      <td id=\"T_38608_row3_col6\" class=\"data row3 col6\" >0.0000</td>\n",
              "      <td id=\"T_38608_row3_col7\" class=\"data row3 col7\" >0.1460</td>\n",
              "    </tr>\n",
              "    <tr>\n",
              "      <th id=\"T_38608_level0_row4\" class=\"row_heading level0 row4\" >br</th>\n",
              "      <td id=\"T_38608_row4_col0\" class=\"data row4 col0\" >Bayesian Ridge</td>\n",
              "      <td id=\"T_38608_row4_col1\" class=\"data row4 col1\" >0.0000</td>\n",
              "      <td id=\"T_38608_row4_col2\" class=\"data row4 col2\" >0.0000</td>\n",
              "      <td id=\"T_38608_row4_col3\" class=\"data row4 col3\" >0.0000</td>\n",
              "      <td id=\"T_38608_row4_col4\" class=\"data row4 col4\" >1.0000</td>\n",
              "      <td id=\"T_38608_row4_col5\" class=\"data row4 col5\" >0.0000</td>\n",
              "      <td id=\"T_38608_row4_col6\" class=\"data row4 col6\" >0.0000</td>\n",
              "      <td id=\"T_38608_row4_col7\" class=\"data row4 col7\" >0.0720</td>\n",
              "    </tr>\n",
              "    <tr>\n",
              "      <th id=\"T_38608_level0_row5\" class=\"row_heading level0 row5\" >huber</th>\n",
              "      <td id=\"T_38608_row5_col0\" class=\"data row5 col0\" >Huber Regressor</td>\n",
              "      <td id=\"T_38608_row5_col1\" class=\"data row5 col1\" >0.0003</td>\n",
              "      <td id=\"T_38608_row5_col2\" class=\"data row5 col2\" >0.0000</td>\n",
              "      <td id=\"T_38608_row5_col3\" class=\"data row5 col3\" >0.0005</td>\n",
              "      <td id=\"T_38608_row5_col4\" class=\"data row5 col4\" >1.0000</td>\n",
              "      <td id=\"T_38608_row5_col5\" class=\"data row5 col5\" >0.0000</td>\n",
              "      <td id=\"T_38608_row5_col6\" class=\"data row5 col6\" >0.0000</td>\n",
              "      <td id=\"T_38608_row5_col7\" class=\"data row5 col7\" >0.1370</td>\n",
              "    </tr>\n",
              "    <tr>\n",
              "      <th id=\"T_38608_level0_row6\" class=\"row_heading level0 row6\" >par</th>\n",
              "      <td id=\"T_38608_row6_col0\" class=\"data row6 col0\" >Passive Aggressive Regressor</td>\n",
              "      <td id=\"T_38608_row6_col1\" class=\"data row6 col1\" >0.0302</td>\n",
              "      <td id=\"T_38608_row6_col2\" class=\"data row6 col2\" >0.0014</td>\n",
              "      <td id=\"T_38608_row6_col3\" class=\"data row6 col3\" >0.0374</td>\n",
              "      <td id=\"T_38608_row6_col4\" class=\"data row6 col4\" >0.9999</td>\n",
              "      <td id=\"T_38608_row6_col5\" class=\"data row6 col5\" >0.0034</td>\n",
              "      <td id=\"T_38608_row6_col6\" class=\"data row6 col6\" >0.0028</td>\n",
              "      <td id=\"T_38608_row6_col7\" class=\"data row6 col7\" >0.0770</td>\n",
              "    </tr>\n",
              "    <tr>\n",
              "      <th id=\"T_38608_level0_row7\" class=\"row_heading level0 row7\" >et</th>\n",
              "      <td id=\"T_38608_row7_col0\" class=\"data row7 col0\" >Extra Trees Regressor</td>\n",
              "      <td id=\"T_38608_row7_col1\" class=\"data row7 col1\" >0.0035</td>\n",
              "      <td id=\"T_38608_row7_col2\" class=\"data row7 col2\" >0.0023</td>\n",
              "      <td id=\"T_38608_row7_col3\" class=\"data row7 col3\" >0.0290</td>\n",
              "      <td id=\"T_38608_row7_col4\" class=\"data row7 col4\" >0.9998</td>\n",
              "      <td id=\"T_38608_row7_col5\" class=\"data row7 col5\" >0.0024</td>\n",
              "      <td id=\"T_38608_row7_col6\" class=\"data row7 col6\" >0.0003</td>\n",
              "      <td id=\"T_38608_row7_col7\" class=\"data row7 col7\" >0.2910</td>\n",
              "    </tr>\n",
              "    <tr>\n",
              "      <th id=\"T_38608_level0_row8\" class=\"row_heading level0 row8\" >gbr</th>\n",
              "      <td id=\"T_38608_row8_col0\" class=\"data row8 col0\" >Gradient Boosting Regressor</td>\n",
              "      <td id=\"T_38608_row8_col1\" class=\"data row8 col1\" >0.0023</td>\n",
              "      <td id=\"T_38608_row8_col2\" class=\"data row8 col2\" >0.0028</td>\n",
              "      <td id=\"T_38608_row8_col3\" class=\"data row8 col3\" >0.0276</td>\n",
              "      <td id=\"T_38608_row8_col4\" class=\"data row8 col4\" >0.9997</td>\n",
              "      <td id=\"T_38608_row8_col5\" class=\"data row8 col5\" >0.0018</td>\n",
              "      <td id=\"T_38608_row8_col6\" class=\"data row8 col6\" >0.0002</td>\n",
              "      <td id=\"T_38608_row8_col7\" class=\"data row8 col7\" >0.8070</td>\n",
              "    </tr>\n",
              "    <tr>\n",
              "      <th id=\"T_38608_level0_row9\" class=\"row_heading level0 row9\" >xgboost</th>\n",
              "      <td id=\"T_38608_row9_col0\" class=\"data row9 col0\" >Extreme Gradient Boosting</td>\n",
              "      <td id=\"T_38608_row9_col1\" class=\"data row9 col1\" >0.0022</td>\n",
              "      <td id=\"T_38608_row9_col2\" class=\"data row9 col2\" >0.0027</td>\n",
              "      <td id=\"T_38608_row9_col3\" class=\"data row9 col3\" >0.0274</td>\n",
              "      <td id=\"T_38608_row9_col4\" class=\"data row9 col4\" >0.9997</td>\n",
              "      <td id=\"T_38608_row9_col5\" class=\"data row9 col5\" >0.0017</td>\n",
              "      <td id=\"T_38608_row9_col6\" class=\"data row9 col6\" >0.0002</td>\n",
              "      <td id=\"T_38608_row9_col7\" class=\"data row9 col7\" >0.1410</td>\n",
              "    </tr>\n",
              "    <tr>\n",
              "      <th id=\"T_38608_level0_row10\" class=\"row_heading level0 row10\" >rf</th>\n",
              "      <td id=\"T_38608_row10_col0\" class=\"data row10 col0\" >Random Forest Regressor</td>\n",
              "      <td id=\"T_38608_row10_col1\" class=\"data row10 col1\" >0.0031</td>\n",
              "      <td id=\"T_38608_row10_col2\" class=\"data row10 col2\" >0.0039</td>\n",
              "      <td id=\"T_38608_row10_col3\" class=\"data row10 col3\" >0.0385</td>\n",
              "      <td id=\"T_38608_row10_col4\" class=\"data row10 col4\" >0.9996</td>\n",
              "      <td id=\"T_38608_row10_col5\" class=\"data row10 col5\" >0.0023</td>\n",
              "      <td id=\"T_38608_row10_col6\" class=\"data row10 col6\" >0.0002</td>\n",
              "      <td id=\"T_38608_row10_col7\" class=\"data row10 col7\" >0.7100</td>\n",
              "    </tr>\n",
              "    <tr>\n",
              "      <th id=\"T_38608_level0_row11\" class=\"row_heading level0 row11\" >dt</th>\n",
              "      <td id=\"T_38608_row11_col0\" class=\"data row11 col0\" >Decision Tree Regressor</td>\n",
              "      <td id=\"T_38608_row11_col1\" class=\"data row11 col1\" >0.0041</td>\n",
              "      <td id=\"T_38608_row11_col2\" class=\"data row11 col2\" >0.0068</td>\n",
              "      <td id=\"T_38608_row11_col3\" class=\"data row11 col3\" >0.0551</td>\n",
              "      <td id=\"T_38608_row11_col4\" class=\"data row11 col4\" >0.9994</td>\n",
              "      <td id=\"T_38608_row11_col5\" class=\"data row11 col5\" >0.0026</td>\n",
              "      <td id=\"T_38608_row11_col6\" class=\"data row11 col6\" >0.0002</td>\n",
              "      <td id=\"T_38608_row11_col7\" class=\"data row11 col7\" >0.1350</td>\n",
              "    </tr>\n",
              "    <tr>\n",
              "      <th id=\"T_38608_level0_row12\" class=\"row_heading level0 row12\" >knn</th>\n",
              "      <td id=\"T_38608_row12_col0\" class=\"data row12 col0\" >K Neighbors Regressor</td>\n",
              "      <td id=\"T_38608_row12_col1\" class=\"data row12 col1\" >0.0083</td>\n",
              "      <td id=\"T_38608_row12_col2\" class=\"data row12 col2\" >0.0083</td>\n",
              "      <td id=\"T_38608_row12_col3\" class=\"data row12 col3\" >0.0754</td>\n",
              "      <td id=\"T_38608_row12_col4\" class=\"data row12 col4\" >0.9992</td>\n",
              "      <td id=\"T_38608_row12_col5\" class=\"data row12 col5\" >0.0055</td>\n",
              "      <td id=\"T_38608_row12_col6\" class=\"data row12 col6\" >0.0007</td>\n",
              "      <td id=\"T_38608_row12_col7\" class=\"data row12 col7\" >0.1300</td>\n",
              "    </tr>\n",
              "    <tr>\n",
              "      <th id=\"T_38608_level0_row13\" class=\"row_heading level0 row13\" >lightgbm</th>\n",
              "      <td id=\"T_38608_row13_col0\" class=\"data row13 col0\" >Light Gradient Boosting Machine</td>\n",
              "      <td id=\"T_38608_row13_col1\" class=\"data row13 col1\" >0.0296</td>\n",
              "      <td id=\"T_38608_row13_col2\" class=\"data row13 col2\" >0.0496</td>\n",
              "      <td id=\"T_38608_row13_col3\" class=\"data row13 col3\" >0.1954</td>\n",
              "      <td id=\"T_38608_row13_col4\" class=\"data row13 col4\" >0.9953</td>\n",
              "      <td id=\"T_38608_row13_col5\" class=\"data row13 col5\" >0.0129</td>\n",
              "      <td id=\"T_38608_row13_col6\" class=\"data row13 col6\" >0.0026</td>\n",
              "      <td id=\"T_38608_row13_col7\" class=\"data row13 col7\" >0.6860</td>\n",
              "    </tr>\n",
              "    <tr>\n",
              "      <th id=\"T_38608_level0_row14\" class=\"row_heading level0 row14\" >en</th>\n",
              "      <td id=\"T_38608_row14_col0\" class=\"data row14 col0\" >Elastic Net</td>\n",
              "      <td id=\"T_38608_row14_col1\" class=\"data row14 col1\" >0.2155</td>\n",
              "      <td id=\"T_38608_row14_col2\" class=\"data row14 col2\" >0.0872</td>\n",
              "      <td id=\"T_38608_row14_col3\" class=\"data row14 col3\" >0.2949</td>\n",
              "      <td id=\"T_38608_row14_col4\" class=\"data row14 col4\" >0.9917</td>\n",
              "      <td id=\"T_38608_row14_col5\" class=\"data row14 col5\" >0.0246</td>\n",
              "      <td id=\"T_38608_row14_col6\" class=\"data row14 col6\" >0.0201</td>\n",
              "      <td id=\"T_38608_row14_col7\" class=\"data row14 col7\" >0.2830</td>\n",
              "    </tr>\n",
              "    <tr>\n",
              "      <th id=\"T_38608_level0_row15\" class=\"row_heading level0 row15\" >lasso</th>\n",
              "      <td id=\"T_38608_row15_col0\" class=\"data row15 col0\" >Lasso Regression</td>\n",
              "      <td id=\"T_38608_row15_col1\" class=\"data row15 col1\" >0.2258</td>\n",
              "      <td id=\"T_38608_row15_col2\" class=\"data row15 col2\" >0.0957</td>\n",
              "      <td id=\"T_38608_row15_col3\" class=\"data row15 col3\" >0.3090</td>\n",
              "      <td id=\"T_38608_row15_col4\" class=\"data row15 col4\" >0.9908</td>\n",
              "      <td id=\"T_38608_row15_col5\" class=\"data row15 col5\" >0.0257</td>\n",
              "      <td id=\"T_38608_row15_col6\" class=\"data row15 col6\" >0.0211</td>\n",
              "      <td id=\"T_38608_row15_col7\" class=\"data row15 col7\" >0.1450</td>\n",
              "    </tr>\n",
              "    <tr>\n",
              "      <th id=\"T_38608_level0_row16\" class=\"row_heading level0 row16\" >llar</th>\n",
              "      <td id=\"T_38608_row16_col0\" class=\"data row16 col0\" >Lasso Least Angle Regression</td>\n",
              "      <td id=\"T_38608_row16_col1\" class=\"data row16 col1\" >0.2258</td>\n",
              "      <td id=\"T_38608_row16_col2\" class=\"data row16 col2\" >0.0957</td>\n",
              "      <td id=\"T_38608_row16_col3\" class=\"data row16 col3\" >0.3090</td>\n",
              "      <td id=\"T_38608_row16_col4\" class=\"data row16 col4\" >0.9908</td>\n",
              "      <td id=\"T_38608_row16_col5\" class=\"data row16 col5\" >0.0257</td>\n",
              "      <td id=\"T_38608_row16_col6\" class=\"data row16 col6\" >0.0211</td>\n",
              "      <td id=\"T_38608_row16_col7\" class=\"data row16 col7\" >0.1870</td>\n",
              "    </tr>\n",
              "    <tr>\n",
              "      <th id=\"T_38608_level0_row17\" class=\"row_heading level0 row17\" >ada</th>\n",
              "      <td id=\"T_38608_row17_col0\" class=\"data row17 col0\" >AdaBoost Regressor</td>\n",
              "      <td id=\"T_38608_row17_col1\" class=\"data row17 col1\" >0.4040</td>\n",
              "      <td id=\"T_38608_row17_col2\" class=\"data row17 col2\" >0.2144</td>\n",
              "      <td id=\"T_38608_row17_col3\" class=\"data row17 col3\" >0.4579</td>\n",
              "      <td id=\"T_38608_row17_col4\" class=\"data row17 col4\" >0.9794</td>\n",
              "      <td id=\"T_38608_row17_col5\" class=\"data row17 col5\" >0.0415</td>\n",
              "      <td id=\"T_38608_row17_col6\" class=\"data row17 col6\" >0.0384</td>\n",
              "      <td id=\"T_38608_row17_col7\" class=\"data row17 col7\" >0.1470</td>\n",
              "    </tr>\n",
              "    <tr>\n",
              "      <th id=\"T_38608_level0_row18\" class=\"row_heading level0 row18\" >dummy</th>\n",
              "      <td id=\"T_38608_row18_col0\" class=\"data row18 col0\" >Dummy Regressor</td>\n",
              "      <td id=\"T_38608_row18_col1\" class=\"data row18 col1\" >2.3643</td>\n",
              "      <td id=\"T_38608_row18_col2\" class=\"data row18 col2\" >10.4823</td>\n",
              "      <td id=\"T_38608_row18_col3\" class=\"data row18 col3\" >3.2344</td>\n",
              "      <td id=\"T_38608_row18_col4\" class=\"data row18 col4\" >-0.0037</td>\n",
              "      <td id=\"T_38608_row18_col5\" class=\"data row18 col5\" >0.2503</td>\n",
              "      <td id=\"T_38608_row18_col6\" class=\"data row18 col6\" >0.2206</td>\n",
              "      <td id=\"T_38608_row18_col7\" class=\"data row18 col7\" >0.1080</td>\n",
              "    </tr>\n",
              "  </tbody>\n",
              "</table>\n"
            ]
          },
          "metadata": {}
        },
        {
          "output_type": "display_data",
          "data": {
            "text/plain": [
              "Processing:   0%|          | 0/81 [00:00<?, ?it/s]"
            ],
            "application/vnd.jupyter.widget-view+json": {
              "version_major": 2,
              "version_minor": 0,
              "model_id": "86b63ad0636b4be7a31ec9404b7327af"
            }
          },
          "metadata": {
            "application/vnd.jupyter.widget-view+json": {
              "colab": {
                "custom_widget_manager": {
                  "url": "https://ssl.gstatic.com/colaboratory-static/widgets/colab-cdn-widget-manager/2b70e893a8ba7c0f/manager.min.js"
                }
              }
            }
          }
        },
        {
          "output_type": "display_data",
          "data": {
            "text/plain": [
              "<IPython.core.display.HTML object>"
            ],
            "text/html": []
          },
          "metadata": {}
        }
      ]
    },
    {
      "cell_type": "markdown",
      "source": [
        "In order to identify the best regression model I used PyCaret's `compare_models () which trained  multiple regression models and evaluated the performence using methiods such as MAE, MSE, R^2 and RMSE with which the best model was selected."
      ],
      "metadata": {
        "id": "BaLdrSJn4_9g"
      }
    },
    {
      "cell_type": "code",
      "source": [
        "print(best_model)\n",
        "\n",
        "predictions = predict_model(best_model)\n",
        "\n",
        "predictions.head()\n"
      ],
      "metadata": {
        "colab": {
          "base_uri": "https://localhost:8080/",
          "height": 287
        },
        "id": "RB006vVZ75rF",
        "outputId": "2ba23d48-8ef7-450b-9873-de19960faefd"
      },
      "execution_count": null,
      "outputs": [
        {
          "output_type": "stream",
          "name": "stdout",
          "text": [
            "LinearRegression(n_jobs=-1)\n"
          ]
        },
        {
          "output_type": "display_data",
          "data": {
            "text/plain": [
              "<pandas.io.formats.style.Styler at 0x7beacb7b57e0>"
            ],
            "text/html": [
              "<style type=\"text/css\">\n",
              "</style>\n",
              "<table id=\"T_206c5\" class=\"dataframe\">\n",
              "  <thead>\n",
              "    <tr>\n",
              "      <th class=\"blank level0\" >&nbsp;</th>\n",
              "      <th id=\"T_206c5_level0_col0\" class=\"col_heading level0 col0\" >Model</th>\n",
              "      <th id=\"T_206c5_level0_col1\" class=\"col_heading level0 col1\" >MAE</th>\n",
              "      <th id=\"T_206c5_level0_col2\" class=\"col_heading level0 col2\" >MSE</th>\n",
              "      <th id=\"T_206c5_level0_col3\" class=\"col_heading level0 col3\" >RMSE</th>\n",
              "      <th id=\"T_206c5_level0_col4\" class=\"col_heading level0 col4\" >R2</th>\n",
              "      <th id=\"T_206c5_level0_col5\" class=\"col_heading level0 col5\" >RMSLE</th>\n",
              "      <th id=\"T_206c5_level0_col6\" class=\"col_heading level0 col6\" >MAPE</th>\n",
              "    </tr>\n",
              "  </thead>\n",
              "  <tbody>\n",
              "    <tr>\n",
              "      <th id=\"T_206c5_level0_row0\" class=\"row_heading level0 row0\" >0</th>\n",
              "      <td id=\"T_206c5_row0_col0\" class=\"data row0 col0\" >Linear Regression</td>\n",
              "      <td id=\"T_206c5_row0_col1\" class=\"data row0 col1\" >0.0000</td>\n",
              "      <td id=\"T_206c5_row0_col2\" class=\"data row0 col2\" >0.0000</td>\n",
              "      <td id=\"T_206c5_row0_col3\" class=\"data row0 col3\" >0.0000</td>\n",
              "      <td id=\"T_206c5_row0_col4\" class=\"data row0 col4\" >1.0000</td>\n",
              "      <td id=\"T_206c5_row0_col5\" class=\"data row0 col5\" >0.0000</td>\n",
              "      <td id=\"T_206c5_row0_col6\" class=\"data row0 col6\" >0.0000</td>\n",
              "    </tr>\n",
              "  </tbody>\n",
              "</table>\n"
            ]
          },
          "metadata": {}
        },
        {
          "output_type": "execute_result",
          "data": {
            "text/plain": [
              "     Sex  Length  Diameter  Height  WholeWeight  ShuckedWeight  VisceraWeight  \\\n",
              "2812   I   0.240     0.170   0.050       0.0545         0.0205         0.0160   \n",
              "1344   M   0.585     0.470   0.165       1.4090         0.8000         0.2290   \n",
              "533    F   0.435     0.335   0.110       0.3800         0.1695         0.0860   \n",
              "866    M   0.605     0.455   0.160       1.1035         0.4210         0.3015   \n",
              "3939   M   0.555     0.420   0.145       0.8695         0.3075         0.2575   \n",
              "\n",
              "      ShellWeight  Rings   Age  prediction_label  \n",
              "2812       0.0155      5   6.5               6.5  \n",
              "1344       0.2950     10  11.5              11.5  \n",
              "533        0.1100      9  10.5              10.5  \n",
              "866        0.3250      9  10.5              10.5  \n",
              "3939       0.2500     14  15.5              15.5  "
            ],
            "text/html": [
              "\n",
              "  <div id=\"df-e94b95d6-2bff-444b-8f19-77194a135af1\" class=\"colab-df-container\">\n",
              "    <div>\n",
              "<style scoped>\n",
              "    .dataframe tbody tr th:only-of-type {\n",
              "        vertical-align: middle;\n",
              "    }\n",
              "\n",
              "    .dataframe tbody tr th {\n",
              "        vertical-align: top;\n",
              "    }\n",
              "\n",
              "    .dataframe thead th {\n",
              "        text-align: right;\n",
              "    }\n",
              "</style>\n",
              "<table border=\"1\" class=\"dataframe\">\n",
              "  <thead>\n",
              "    <tr style=\"text-align: right;\">\n",
              "      <th></th>\n",
              "      <th>Sex</th>\n",
              "      <th>Length</th>\n",
              "      <th>Diameter</th>\n",
              "      <th>Height</th>\n",
              "      <th>WholeWeight</th>\n",
              "      <th>ShuckedWeight</th>\n",
              "      <th>VisceraWeight</th>\n",
              "      <th>ShellWeight</th>\n",
              "      <th>Rings</th>\n",
              "      <th>Age</th>\n",
              "      <th>prediction_label</th>\n",
              "    </tr>\n",
              "  </thead>\n",
              "  <tbody>\n",
              "    <tr>\n",
              "      <th>2812</th>\n",
              "      <td>I</td>\n",
              "      <td>0.240</td>\n",
              "      <td>0.170</td>\n",
              "      <td>0.050</td>\n",
              "      <td>0.0545</td>\n",
              "      <td>0.0205</td>\n",
              "      <td>0.0160</td>\n",
              "      <td>0.0155</td>\n",
              "      <td>5</td>\n",
              "      <td>6.5</td>\n",
              "      <td>6.5</td>\n",
              "    </tr>\n",
              "    <tr>\n",
              "      <th>1344</th>\n",
              "      <td>M</td>\n",
              "      <td>0.585</td>\n",
              "      <td>0.470</td>\n",
              "      <td>0.165</td>\n",
              "      <td>1.4090</td>\n",
              "      <td>0.8000</td>\n",
              "      <td>0.2290</td>\n",
              "      <td>0.2950</td>\n",
              "      <td>10</td>\n",
              "      <td>11.5</td>\n",
              "      <td>11.5</td>\n",
              "    </tr>\n",
              "    <tr>\n",
              "      <th>533</th>\n",
              "      <td>F</td>\n",
              "      <td>0.435</td>\n",
              "      <td>0.335</td>\n",
              "      <td>0.110</td>\n",
              "      <td>0.3800</td>\n",
              "      <td>0.1695</td>\n",
              "      <td>0.0860</td>\n",
              "      <td>0.1100</td>\n",
              "      <td>9</td>\n",
              "      <td>10.5</td>\n",
              "      <td>10.5</td>\n",
              "    </tr>\n",
              "    <tr>\n",
              "      <th>866</th>\n",
              "      <td>M</td>\n",
              "      <td>0.605</td>\n",
              "      <td>0.455</td>\n",
              "      <td>0.160</td>\n",
              "      <td>1.1035</td>\n",
              "      <td>0.4210</td>\n",
              "      <td>0.3015</td>\n",
              "      <td>0.3250</td>\n",
              "      <td>9</td>\n",
              "      <td>10.5</td>\n",
              "      <td>10.5</td>\n",
              "    </tr>\n",
              "    <tr>\n",
              "      <th>3939</th>\n",
              "      <td>M</td>\n",
              "      <td>0.555</td>\n",
              "      <td>0.420</td>\n",
              "      <td>0.145</td>\n",
              "      <td>0.8695</td>\n",
              "      <td>0.3075</td>\n",
              "      <td>0.2575</td>\n",
              "      <td>0.2500</td>\n",
              "      <td>14</td>\n",
              "      <td>15.5</td>\n",
              "      <td>15.5</td>\n",
              "    </tr>\n",
              "  </tbody>\n",
              "</table>\n",
              "</div>\n",
              "    <div class=\"colab-df-buttons\">\n",
              "\n",
              "  <div class=\"colab-df-container\">\n",
              "    <button class=\"colab-df-convert\" onclick=\"convertToInteractive('df-e94b95d6-2bff-444b-8f19-77194a135af1')\"\n",
              "            title=\"Convert this dataframe to an interactive table.\"\n",
              "            style=\"display:none;\">\n",
              "\n",
              "  <svg xmlns=\"http://www.w3.org/2000/svg\" height=\"24px\" viewBox=\"0 -960 960 960\">\n",
              "    <path d=\"M120-120v-720h720v720H120Zm60-500h600v-160H180v160Zm220 220h160v-160H400v160Zm0 220h160v-160H400v160ZM180-400h160v-160H180v160Zm440 0h160v-160H620v160ZM180-180h160v-160H180v160Zm440 0h160v-160H620v160Z\"/>\n",
              "  </svg>\n",
              "    </button>\n",
              "\n",
              "  <style>\n",
              "    .colab-df-container {\n",
              "      display:flex;\n",
              "      gap: 12px;\n",
              "    }\n",
              "\n",
              "    .colab-df-convert {\n",
              "      background-color: #E8F0FE;\n",
              "      border: none;\n",
              "      border-radius: 50%;\n",
              "      cursor: pointer;\n",
              "      display: none;\n",
              "      fill: #1967D2;\n",
              "      height: 32px;\n",
              "      padding: 0 0 0 0;\n",
              "      width: 32px;\n",
              "    }\n",
              "\n",
              "    .colab-df-convert:hover {\n",
              "      background-color: #E2EBFA;\n",
              "      box-shadow: 0px 1px 2px rgba(60, 64, 67, 0.3), 0px 1px 3px 1px rgba(60, 64, 67, 0.15);\n",
              "      fill: #174EA6;\n",
              "    }\n",
              "\n",
              "    .colab-df-buttons div {\n",
              "      margin-bottom: 4px;\n",
              "    }\n",
              "\n",
              "    [theme=dark] .colab-df-convert {\n",
              "      background-color: #3B4455;\n",
              "      fill: #D2E3FC;\n",
              "    }\n",
              "\n",
              "    [theme=dark] .colab-df-convert:hover {\n",
              "      background-color: #434B5C;\n",
              "      box-shadow: 0px 1px 3px 1px rgba(0, 0, 0, 0.15);\n",
              "      filter: drop-shadow(0px 1px 2px rgba(0, 0, 0, 0.3));\n",
              "      fill: #FFFFFF;\n",
              "    }\n",
              "  </style>\n",
              "\n",
              "    <script>\n",
              "      const buttonEl =\n",
              "        document.querySelector('#df-e94b95d6-2bff-444b-8f19-77194a135af1 button.colab-df-convert');\n",
              "      buttonEl.style.display =\n",
              "        google.colab.kernel.accessAllowed ? 'block' : 'none';\n",
              "\n",
              "      async function convertToInteractive(key) {\n",
              "        const element = document.querySelector('#df-e94b95d6-2bff-444b-8f19-77194a135af1');\n",
              "        const dataTable =\n",
              "          await google.colab.kernel.invokeFunction('convertToInteractive',\n",
              "                                                    [key], {});\n",
              "        if (!dataTable) return;\n",
              "\n",
              "        const docLinkHtml = 'Like what you see? Visit the ' +\n",
              "          '<a target=\"_blank\" href=https://colab.research.google.com/notebooks/data_table.ipynb>data table notebook</a>'\n",
              "          + ' to learn more about interactive tables.';\n",
              "        element.innerHTML = '';\n",
              "        dataTable['output_type'] = 'display_data';\n",
              "        await google.colab.output.renderOutput(dataTable, element);\n",
              "        const docLink = document.createElement('div');\n",
              "        docLink.innerHTML = docLinkHtml;\n",
              "        element.appendChild(docLink);\n",
              "      }\n",
              "    </script>\n",
              "  </div>\n",
              "\n",
              "\n",
              "<div id=\"df-97827c43-5c87-4e9d-b1dd-1bcd245b2668\">\n",
              "  <button class=\"colab-df-quickchart\" onclick=\"quickchart('df-97827c43-5c87-4e9d-b1dd-1bcd245b2668')\"\n",
              "            title=\"Suggest charts\"\n",
              "            style=\"display:none;\">\n",
              "\n",
              "<svg xmlns=\"http://www.w3.org/2000/svg\" height=\"24px\"viewBox=\"0 0 24 24\"\n",
              "     width=\"24px\">\n",
              "    <g>\n",
              "        <path d=\"M19 3H5c-1.1 0-2 .9-2 2v14c0 1.1.9 2 2 2h14c1.1 0 2-.9 2-2V5c0-1.1-.9-2-2-2zM9 17H7v-7h2v7zm4 0h-2V7h2v10zm4 0h-2v-4h2v4z\"/>\n",
              "    </g>\n",
              "</svg>\n",
              "  </button>\n",
              "\n",
              "<style>\n",
              "  .colab-df-quickchart {\n",
              "      --bg-color: #E8F0FE;\n",
              "      --fill-color: #1967D2;\n",
              "      --hover-bg-color: #E2EBFA;\n",
              "      --hover-fill-color: #174EA6;\n",
              "      --disabled-fill-color: #AAA;\n",
              "      --disabled-bg-color: #DDD;\n",
              "  }\n",
              "\n",
              "  [theme=dark] .colab-df-quickchart {\n",
              "      --bg-color: #3B4455;\n",
              "      --fill-color: #D2E3FC;\n",
              "      --hover-bg-color: #434B5C;\n",
              "      --hover-fill-color: #FFFFFF;\n",
              "      --disabled-bg-color: #3B4455;\n",
              "      --disabled-fill-color: #666;\n",
              "  }\n",
              "\n",
              "  .colab-df-quickchart {\n",
              "    background-color: var(--bg-color);\n",
              "    border: none;\n",
              "    border-radius: 50%;\n",
              "    cursor: pointer;\n",
              "    display: none;\n",
              "    fill: var(--fill-color);\n",
              "    height: 32px;\n",
              "    padding: 0;\n",
              "    width: 32px;\n",
              "  }\n",
              "\n",
              "  .colab-df-quickchart:hover {\n",
              "    background-color: var(--hover-bg-color);\n",
              "    box-shadow: 0 1px 2px rgba(60, 64, 67, 0.3), 0 1px 3px 1px rgba(60, 64, 67, 0.15);\n",
              "    fill: var(--button-hover-fill-color);\n",
              "  }\n",
              "\n",
              "  .colab-df-quickchart-complete:disabled,\n",
              "  .colab-df-quickchart-complete:disabled:hover {\n",
              "    background-color: var(--disabled-bg-color);\n",
              "    fill: var(--disabled-fill-color);\n",
              "    box-shadow: none;\n",
              "  }\n",
              "\n",
              "  .colab-df-spinner {\n",
              "    border: 2px solid var(--fill-color);\n",
              "    border-color: transparent;\n",
              "    border-bottom-color: var(--fill-color);\n",
              "    animation:\n",
              "      spin 1s steps(1) infinite;\n",
              "  }\n",
              "\n",
              "  @keyframes spin {\n",
              "    0% {\n",
              "      border-color: transparent;\n",
              "      border-bottom-color: var(--fill-color);\n",
              "      border-left-color: var(--fill-color);\n",
              "    }\n",
              "    20% {\n",
              "      border-color: transparent;\n",
              "      border-left-color: var(--fill-color);\n",
              "      border-top-color: var(--fill-color);\n",
              "    }\n",
              "    30% {\n",
              "      border-color: transparent;\n",
              "      border-left-color: var(--fill-color);\n",
              "      border-top-color: var(--fill-color);\n",
              "      border-right-color: var(--fill-color);\n",
              "    }\n",
              "    40% {\n",
              "      border-color: transparent;\n",
              "      border-right-color: var(--fill-color);\n",
              "      border-top-color: var(--fill-color);\n",
              "    }\n",
              "    60% {\n",
              "      border-color: transparent;\n",
              "      border-right-color: var(--fill-color);\n",
              "    }\n",
              "    80% {\n",
              "      border-color: transparent;\n",
              "      border-right-color: var(--fill-color);\n",
              "      border-bottom-color: var(--fill-color);\n",
              "    }\n",
              "    90% {\n",
              "      border-color: transparent;\n",
              "      border-bottom-color: var(--fill-color);\n",
              "    }\n",
              "  }\n",
              "</style>\n",
              "\n",
              "  <script>\n",
              "    async function quickchart(key) {\n",
              "      const quickchartButtonEl =\n",
              "        document.querySelector('#' + key + ' button');\n",
              "      quickchartButtonEl.disabled = true;  // To prevent multiple clicks.\n",
              "      quickchartButtonEl.classList.add('colab-df-spinner');\n",
              "      try {\n",
              "        const charts = await google.colab.kernel.invokeFunction(\n",
              "            'suggestCharts', [key], {});\n",
              "      } catch (error) {\n",
              "        console.error('Error during call to suggestCharts:', error);\n",
              "      }\n",
              "      quickchartButtonEl.classList.remove('colab-df-spinner');\n",
              "      quickchartButtonEl.classList.add('colab-df-quickchart-complete');\n",
              "    }\n",
              "    (() => {\n",
              "      let quickchartButtonEl =\n",
              "        document.querySelector('#df-97827c43-5c87-4e9d-b1dd-1bcd245b2668 button');\n",
              "      quickchartButtonEl.style.display =\n",
              "        google.colab.kernel.accessAllowed ? 'block' : 'none';\n",
              "    })();\n",
              "  </script>\n",
              "</div>\n",
              "\n",
              "    </div>\n",
              "  </div>\n"
            ],
            "application/vnd.google.colaboratory.intrinsic+json": {
              "type": "dataframe",
              "variable_name": "predictions",
              "summary": "{\n  \"name\": \"predictions\",\n  \"rows\": 1254,\n  \"fields\": [\n    {\n      \"column\": \"Sex\",\n      \"properties\": {\n        \"dtype\": \"category\",\n        \"num_unique_values\": 3,\n        \"samples\": [\n          \"I\",\n          \"M\",\n          \"F\"\n        ],\n        \"semantic_type\": \"\",\n        \"description\": \"\"\n      }\n    },\n    {\n      \"column\": \"Length\",\n      \"properties\": {\n        \"dtype\": \"float32\",\n        \"num_unique_values\": 120,\n        \"samples\": [\n          0.36500000953674316,\n          0.6150000095367432,\n          0.5550000071525574\n        ],\n        \"semantic_type\": \"\",\n        \"description\": \"\"\n      }\n    },\n    {\n      \"column\": \"Diameter\",\n      \"properties\": {\n        \"dtype\": \"float32\",\n        \"num_unique_values\": 103,\n        \"samples\": [\n          0.20999999344348907,\n          0.1550000011920929,\n          0.5550000071525574\n        ],\n        \"semantic_type\": \"\",\n        \"description\": \"\"\n      }\n    },\n    {\n      \"column\": \"Height\",\n      \"properties\": {\n        \"dtype\": \"float32\",\n        \"num_unique_values\": 46,\n        \"samples\": [\n          0.2150000035762787,\n          0.11999999731779099,\n          0.07999999821186066\n        ],\n        \"semantic_type\": \"\",\n        \"description\": \"\"\n      }\n    },\n    {\n      \"column\": \"WholeWeight\",\n      \"properties\": {\n        \"dtype\": \"float32\",\n        \"num_unique_values\": 1044,\n        \"samples\": [\n          1.1015000343322754,\n          2.255000114440918,\n          0.4724999964237213\n        ],\n        \"semantic_type\": \"\",\n        \"description\": \"\"\n      }\n    },\n    {\n      \"column\": \"ShuckedWeight\",\n      \"properties\": {\n        \"dtype\": \"float32\",\n        \"num_unique_values\": 849,\n        \"samples\": [\n          0.6725000143051147,\n          0.8759999871253967,\n          0.2084999978542328\n        ],\n        \"semantic_type\": \"\",\n        \"description\": \"\"\n      }\n    },\n    {\n      \"column\": \"VisceraWeight\",\n      \"properties\": {\n        \"dtype\": \"float32\",\n        \"num_unique_values\": 624,\n        \"samples\": [\n          0.045499999076128006,\n          0.07000000029802322,\n          0.02800000086426735\n        ],\n        \"semantic_type\": \"\",\n        \"description\": \"\"\n      }\n    },\n    {\n      \"column\": \"ShellWeight\",\n      \"properties\": {\n        \"dtype\": \"float32\",\n        \"num_unique_values\": 544,\n        \"samples\": [\n          0.398499995470047,\n          0.008999999612569809,\n          0.3700000047683716\n        ],\n        \"semantic_type\": \"\",\n        \"description\": \"\"\n      }\n    },\n    {\n      \"column\": \"Rings\",\n      \"properties\": {\n        \"dtype\": \"int8\",\n        \"num_unique_values\": 23,\n        \"samples\": [\n          20,\n          12,\n          5\n        ],\n        \"semantic_type\": \"\",\n        \"description\": \"\"\n      }\n    },\n    {\n      \"column\": \"Age\",\n      \"properties\": {\n        \"dtype\": \"float32\",\n        \"num_unique_values\": 23,\n        \"samples\": [\n          21.5,\n          13.5,\n          6.5\n        ],\n        \"semantic_type\": \"\",\n        \"description\": \"\"\n      }\n    },\n    {\n      \"column\": \"prediction_label\",\n      \"properties\": {\n        \"dtype\": \"number\",\n        \"std\": 3.19432975704064,\n        \"min\": 2.499999999999993,\n        \"max\": 25.50000000000001,\n        \"num_unique_values\": 46,\n        \"samples\": [\n          6.499999999999995,\n          16.500000000000007,\n          21.500000000000007\n        ],\n        \"semantic_type\": \"\",\n        \"description\": \"\"\n      }\n    }\n  ]\n}"
            }
          },
          "metadata": {},
          "execution_count": 23
        }
      ]
    },
    {
      "cell_type": "markdown",
      "source": [
        "The following table shows the predications made by the best model Linear Regression, as per the data."
      ],
      "metadata": {
        "id": "PspqyvJR52l4"
      }
    },
    {
      "cell_type": "code",
      "source": [
        "plot_model(best_model, plot='residuals')\n",
        "plot_model(best_model, plot='error')\n",
        "plot_model(best_model, plot='feature')\n"
      ],
      "metadata": {
        "colab": {
          "base_uri": "https://localhost:8080/",
          "height": 1501
        },
        "id": "BUqnUQro8KgF",
        "outputId": "eeba2a70-d514-4151-a001-2c5db27ae706"
      },
      "execution_count": null,
      "outputs": [
        {
          "output_type": "display_data",
          "data": {
            "text/plain": [
              "<IPython.core.display.HTML object>"
            ],
            "text/html": []
          },
          "metadata": {}
        },
        {
          "output_type": "display_data",
          "data": {
            "text/plain": [
              "<Figure size 800x550 with 2 Axes>"
            ],
            "image/png": "[encoded data removed]"
          },
          "metadata": {}
        },
        {
          "output_type": "display_data",
          "data": {
            "text/plain": [
              "<IPython.core.display.HTML object>"
            ],
            "text/html": []
          },
          "metadata": {}
        },
        {
          "output_type": "display_data",
          "data": {
            "text/plain": [
              "<Figure size 800x550 with 1 Axes>"
            ],
            "image/png": "[encoded data removed]"
          },
          "metadata": {}
        },
        {
          "output_type": "display_data",
          "data": {
            "text/plain": [
              "<IPython.core.display.HTML object>"
            ],
            "text/html": []
          },
          "metadata": {}
        },
        {
          "output_type": "display_data",
          "data": {
            "text/plain": [
              "<Figure size 800x500 with 1 Axes>"
            ],
            "image/png": "[encoded data removed]"
          },
          "metadata": {}
        }
      ]
    },
    {
      "cell_type": "markdown",
      "source": [
        "### Residuals Plot\n",
        "The following plot visualizes the residuals (difference between actual and predicted values) for the Linear Regression model.\n",
        "- Residuals close to zero indicate accurate predictions.\n",
        "- A balanced distribution of residuals around the horizontal axis suggests the model is unbiased.\n",
        "\n",
        "\n",
        "### Observations\n",
        "- The residuals are distributed evenly around the horizontal axis (zero line), indicating the model has minimal bias.\n",
        "- The residual values are close to zero, confirming high accuracy.\n",
        "\n",
        "\n",
        "### Prediction Error Plot\n",
        "This plot compares the actual values (`y`) against the predicted values (`ŷ`) for the Linear Regression model.\n",
        "- The closer the points are to the diagonal line, the better the predictions.\n",
        "- Deviations from the diagonal indicate errors.\n",
        "\n",
        "\n",
        "### Observations\n",
        "- All points lie perfectly on the diagonal line, confirming the model predicts the target variable with perfect accuracy.\n",
        "\n",
        "\n",
        "### Feature Importance Plot\n",
        "This plot shows the relative importance of each feature in predicting the target variable (`Age`).\n",
        "- Features with higher importance contribute more to the model's predictions.\n",
        "\n",
        "### Observations\n",
        "- The `Rings` feature is the most significant predictor of `Age`, as expected.\n",
        "- Other features such as `Length`, `Diameter`, and weights contribute minimally to the model's predictions.\n",
        "- Categorical features (`Sex_F`, `Sex_M`, `Sex_I`) also have limited impact.\n",
        "\n",
        "\n"
      ],
      "metadata": {
        "id": "54ECPiJE6io1"
      }
    },
    {
      "cell_type": "code",
      "source": [
        "final_model = finalize_model(best_model)\n",
        "\n",
        "save_model(final_model, 'final_abalone_model')\n"
      ],
      "metadata": {
        "colab": {
          "base_uri": "https://localhost:8080/"
        },
        "id": "sGss2Flv8Pqu",
        "outputId": "b4c9a7b3-a76c-483d-aa4a-455966e86cfa"
      },
      "execution_count": null,
      "outputs": [
        {
          "output_type": "stream",
          "name": "stdout",
          "text": [
            "Transformation Pipeline and Model Successfully Saved\n"
          ]
        },
        {
          "output_type": "execute_result",
          "data": {
            "text/plain": [
              "(Pipeline(memory=Memory(location=None),\n",
              "          steps=[('numerical_imputer',\n",
              "                  TransformerWrapper(include=['Length', 'Diameter', 'Height',\n",
              "                                              'WholeWeight', 'ShuckedWeight',\n",
              "                                              'VisceraWeight', 'ShellWeight',\n",
              "                                              'Rings'],\n",
              "                                     transformer=SimpleImputer())),\n",
              "                 ('categorical_imputer',\n",
              "                  TransformerWrapper(include=['Sex'],\n",
              "                                     transformer=SimpleImputer(strategy='most_frequent'))),\n",
              "                 ('onehot_encoding',\n",
              "                  TransformerWrapper(include=['Sex'],\n",
              "                                     transformer=OneHotEncoder(cols=['Sex'],\n",
              "                                                               handle_missing='return_nan',\n",
              "                                                               use_cat_names=True))),\n",
              "                 ('actual_estimator', LinearRegression(n_jobs=-1))]),\n",
              " 'final_abalone_model.pkl')"
            ]
          },
          "metadata": {},
          "execution_count": 25
        }
      ]
    },
    {
      "cell_type": "code",
      "source": [
        "loaded_model = load_model('final_abalone_model')\n"
      ],
      "metadata": {
        "colab": {
          "base_uri": "https://localhost:8080/"
        },
        "id": "ZdUBsb9I8TKy",
        "outputId": "f0461a51-b1b4-49d1-a801-43a33c5db7c1"
      },
      "execution_count": null,
      "outputs": [
        {
          "output_type": "stream",
          "name": "stdout",
          "text": [
            "Transformation Pipeline and Model Successfully Loaded\n"
          ]
        }
      ]
    },
    {
      "cell_type": "code",
      "source": [
        "plot_model(best_model, plot='residuals')\n"
      ],
      "metadata": {
        "colab": {
          "base_uri": "https://localhost:8080/",
          "height": 524
        },
        "id": "uR5i9PpnlOwg",
        "outputId": "8363c107-606a-4f7c-d412-e4e25b9ccac4"
      },
      "execution_count": null,
      "outputs": [
        {
          "output_type": "display_data",
          "data": {
            "text/plain": [
              "<IPython.core.display.HTML object>"
            ],
            "text/html": []
          },
          "metadata": {}
        },
        {
          "output_type": "display_data",
          "data": {
            "text/plain": [
              "<Figure size 800x550 with 2 Axes>"
            ],
            "image/png": "[encoded data removed]"
          },
          "metadata": {}
        }
      ]
    },
    {
      "cell_type": "markdown",
      "source": [
        "### Observations\n",
        "- The residuals are evenly distributed around the horizontal axis (zero line), indicating no systematic bias in the model.\n",
        "- The magnitude of residuals is extremely small (close to zero), confirming the high accuracy of the model.\n",
        "- Both training and testing residuals show similar patterns, demonstrating that the model generalizes well.\n"
      ],
      "metadata": {
        "id": "DDcNIV_s71sk"
      }
    },
    {
      "cell_type": "code",
      "source": [
        "plot_model(best_model, plot='error')\n"
      ],
      "metadata": {
        "id": "AjJKqyK-lSlW",
        "outputId": "e670b012-7a70-4b9d-cbcb-669cfc1487e0",
        "colab": {
          "base_uri": "https://localhost:8080/",
          "height": 526
        }
      },
      "execution_count": null,
      "outputs": [
        {
          "output_type": "display_data",
          "data": {
            "text/plain": [
              "<IPython.core.display.HTML object>"
            ],
            "text/html": []
          },
          "metadata": {}
        },
        {
          "output_type": "display_data",
          "data": {
            "text/plain": [
              "<Figure size 800x550 with 1 Axes>"
            ],
            "image/png": "[encoded data removed]"
          },
          "metadata": {}
        }
      ]
    },
    {
      "cell_type": "markdown",
      "source": [
        "### Observations\n",
        "- All points lie perfectly on the diagonal line, indicating that the model predicts the target variable with **100% accuracy**.\n",
        "- The **R² = 1.000** metric further confirms the perfect fit, as it represents the proportion of variance in the target variable explained by the model.\n",
        "- This plot highlights the exceptional performance of the Linear Regression model in predicting the age of abalones.\n"
      ],
      "metadata": {
        "id": "E-LRS4-e7_I1"
      }
    },
    {
      "cell_type": "code",
      "source": [
        "plot_model(best_model, plot='feature')\n"
      ],
      "metadata": {
        "id": "paeFlLJglVYb",
        "outputId": "800e7bc9-94b4-4730-d921-2e0eb46e3915",
        "colab": {
          "base_uri": "https://localhost:8080/",
          "height": 485
        }
      },
      "execution_count": null,
      "outputs": [
        {
          "output_type": "display_data",
          "data": {
            "text/plain": [
              "<IPython.core.display.HTML object>"
            ],
            "text/html": []
          },
          "metadata": {}
        },
        {
          "output_type": "display_data",
          "data": {
            "text/plain": [
              "<Figure size 800x500 with 1 Axes>"
            ],
            "image/png": "[encoded data removed]"
          },
          "metadata": {}
        }
      ]
    },
    {
      "cell_type": "markdown",
      "source": [
        "### Observations\n",
        "- The `Rings` feature is by far the most important, contributing nearly all the information required for predicting the age of abalone.\n",
        "- Other features, such as `Sex`, `Length`, and `Weight` attributes, have minimal to no importance in this regression task.\n",
        "- This result aligns with expectations, as the number of rings directly correlates with the age of abalone.\n"
      ],
      "metadata": {
        "id": "Ir5oqWyK8JYK"
      }
    },
    {
      "cell_type": "code",
      "source": [
        "final_model = finalize_model(best_model)\n",
        "save_model(final_model, 'final_abalone_model')\n"
      ],
      "metadata": {
        "colab": {
          "base_uri": "https://localhost:8080/"
        },
        "id": "jDhmZteEsgeD",
        "outputId": "94dc456a-e258-4af8-92b7-3d555e6999b9"
      },
      "execution_count": null,
      "outputs": [
        {
          "output_type": "stream",
          "name": "stdout",
          "text": [
            "Transformation Pipeline and Model Successfully Saved\n"
          ]
        },
        {
          "output_type": "execute_result",
          "data": {
            "text/plain": [
              "(Pipeline(memory=Memory(location=None),\n",
              "          steps=[('numerical_imputer',\n",
              "                  TransformerWrapper(include=['Length', 'Diameter', 'Height',\n",
              "                                              'WholeWeight', 'ShuckedWeight',\n",
              "                                              'VisceraWeight', 'ShellWeight',\n",
              "                                              'Rings'],\n",
              "                                     transformer=SimpleImputer())),\n",
              "                 ('categorical_imputer',\n",
              "                  TransformerWrapper(include=['Sex'],\n",
              "                                     transformer=SimpleImputer(strategy='most_frequent'))),\n",
              "                 ('onehot_encoding',\n",
              "                  TransformerWrapper(include=['Sex'],\n",
              "                                     transformer=OneHotEncoder(cols=['Sex'],\n",
              "                                                               handle_missing='return_nan',\n",
              "                                                               use_cat_names=True))),\n",
              "                 ('actual_estimator', LinearRegression(n_jobs=-1))]),\n",
              " 'final_abalone_model.pkl')"
            ]
          },
          "metadata": {},
          "execution_count": 30
        }
      ]
    },
    {
      "cell_type": "markdown",
      "source": [
        "### Observations\n",
        "- The finalized model includes:\n",
        "  - **Preprocessing steps** (e.g., imputing missing values, encoding categorical variables).\n",
        "  - **Feature transformations** (e.g., one-hot encoding for the `Sex` variable).\n",
        "  - The **Linear Regression estimator** as the final predictor.\n",
        "- The model has been saved as `final_abalone_model.pkl` and can be reused for inference without needing to repeat the training process.\n"
      ],
      "metadata": {
        "id": "U3Zv5ilj8VUC"
      }
    },
    {
      "cell_type": "code",
      "source": [
        "new_data = data.sample(5)\n",
        "predictions = predict_model(loaded_model, data=new_data)\n",
        "\n",
        "print(predictions[['Age', 'prediction_label']])\n",
        "\n"
      ],
      "metadata": {
        "colab": {
          "base_uri": "https://localhost:8080/",
          "height": 185
        },
        "id": "-GnOY08gswG2",
        "outputId": "5e7dbe32-1ead-410e-8f4f-85c4b84a8805"
      },
      "execution_count": null,
      "outputs": [
        {
          "output_type": "display_data",
          "data": {
            "text/plain": [
              "<pandas.io.formats.style.Styler at 0x7bea8a22ac80>"
            ],
            "text/html": [
              "<style type=\"text/css\">\n",
              "</style>\n",
              "<table id=\"T_ab256\" class=\"dataframe\">\n",
              "  <thead>\n",
              "    <tr>\n",
              "      <th class=\"blank level0\" >&nbsp;</th>\n",
              "      <th id=\"T_ab256_level0_col0\" class=\"col_heading level0 col0\" >Model</th>\n",
              "      <th id=\"T_ab256_level0_col1\" class=\"col_heading level0 col1\" >MAE</th>\n",
              "      <th id=\"T_ab256_level0_col2\" class=\"col_heading level0 col2\" >MSE</th>\n",
              "      <th id=\"T_ab256_level0_col3\" class=\"col_heading level0 col3\" >RMSE</th>\n",
              "      <th id=\"T_ab256_level0_col4\" class=\"col_heading level0 col4\" >R2</th>\n",
              "      <th id=\"T_ab256_level0_col5\" class=\"col_heading level0 col5\" >RMSLE</th>\n",
              "      <th id=\"T_ab256_level0_col6\" class=\"col_heading level0 col6\" >MAPE</th>\n",
              "    </tr>\n",
              "  </thead>\n",
              "  <tbody>\n",
              "    <tr>\n",
              "      <th id=\"T_ab256_level0_row0\" class=\"row_heading level0 row0\" >0</th>\n",
              "      <td id=\"T_ab256_row0_col0\" class=\"data row0 col0\" >Linear Regression</td>\n",
              "      <td id=\"T_ab256_row0_col1\" class=\"data row0 col1\" >0.0000</td>\n",
              "      <td id=\"T_ab256_row0_col2\" class=\"data row0 col2\" >0.0000</td>\n",
              "      <td id=\"T_ab256_row0_col3\" class=\"data row0 col3\" >0.0000</td>\n",
              "      <td id=\"T_ab256_row0_col4\" class=\"data row0 col4\" >1.0000</td>\n",
              "      <td id=\"T_ab256_row0_col5\" class=\"data row0 col5\" >0.0000</td>\n",
              "      <td id=\"T_ab256_row0_col6\" class=\"data row0 col6\" >0.0000</td>\n",
              "    </tr>\n",
              "  </tbody>\n",
              "</table>\n"
            ]
          },
          "metadata": {}
        },
        {
          "output_type": "stream",
          "name": "stdout",
          "text": [
            "       Age  prediction_label\n",
            "2812   6.5               6.5\n",
            "1344  11.5              11.5\n",
            "533   10.5              10.5\n",
            "866   10.5              10.5\n",
            "3939  15.5              15.5\n"
          ]
        }
      ]
    },
    {
      "cell_type": "markdown",
      "source": [
        "### Observations\n",
        "- The model accurately predicts the Age of abalones.\n",
        "- The Age column represents the actual values, while prediction_label contains the predicted values.\n",
        "- Metrics such as MAE, MSE, RMSE, R², RMSLE, and MAPE are displayed, showing the model's performance. For this case:\n",
        "  - **MAE (Mean Absolute Error)**: 0.0000\n",
        "  - **MSE (Mean Squared Error)**: 0.0000\n",
        "  - **R² (Coefficient of Determination)**: 1.000 (indicating perfect predictions).\n",
        "  \n"
      ],
      "metadata": {
        "id": "IZsktnu38dgQ"
      }
    }
  ]
}